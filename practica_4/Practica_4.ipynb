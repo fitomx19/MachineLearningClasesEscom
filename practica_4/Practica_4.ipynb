{
 "cells": [
  {
   "cell_type": "code",
   "execution_count": 2,
   "metadata": {},
   "outputs": [
    {
     "data": {
      "text/html": [
       "<div>\n",
       "<style scoped>\n",
       "    .dataframe tbody tr th:only-of-type {\n",
       "        vertical-align: middle;\n",
       "    }\n",
       "\n",
       "    .dataframe tbody tr th {\n",
       "        vertical-align: top;\n",
       "    }\n",
       "\n",
       "    .dataframe thead th {\n",
       "        text-align: right;\n",
       "    }\n",
       "</style>\n",
       "<table border=\"1\" class=\"dataframe\">\n",
       "  <thead>\n",
       "    <tr style=\"text-align: right;\">\n",
       "      <th></th>\n",
       "      <th>longitude</th>\n",
       "      <th>latitude</th>\n",
       "      <th>housingMedianAge</th>\n",
       "      <th>totalRooms</th>\n",
       "      <th>totalBedrooms</th>\n",
       "      <th>population</th>\n",
       "      <th>households</th>\n",
       "      <th>medianIncome</th>\n",
       "      <th>medianHouseValue</th>\n",
       "    </tr>\n",
       "  </thead>\n",
       "  <tbody>\n",
       "    <tr>\n",
       "      <th>0</th>\n",
       "      <td>-122.23</td>\n",
       "      <td>37.88</td>\n",
       "      <td>41.0</td>\n",
       "      <td>880.0</td>\n",
       "      <td>129.0</td>\n",
       "      <td>322.0</td>\n",
       "      <td>126.0</td>\n",
       "      <td>8.3252</td>\n",
       "      <td>452600.0</td>\n",
       "    </tr>\n",
       "    <tr>\n",
       "      <th>1</th>\n",
       "      <td>-122.22</td>\n",
       "      <td>37.86</td>\n",
       "      <td>21.0</td>\n",
       "      <td>7099.0</td>\n",
       "      <td>1106.0</td>\n",
       "      <td>2401.0</td>\n",
       "      <td>1138.0</td>\n",
       "      <td>8.3014</td>\n",
       "      <td>358500.0</td>\n",
       "    </tr>\n",
       "    <tr>\n",
       "      <th>2</th>\n",
       "      <td>-122.24</td>\n",
       "      <td>37.85</td>\n",
       "      <td>52.0</td>\n",
       "      <td>1467.0</td>\n",
       "      <td>190.0</td>\n",
       "      <td>496.0</td>\n",
       "      <td>177.0</td>\n",
       "      <td>7.2574</td>\n",
       "      <td>352100.0</td>\n",
       "    </tr>\n",
       "    <tr>\n",
       "      <th>3</th>\n",
       "      <td>-122.25</td>\n",
       "      <td>37.85</td>\n",
       "      <td>52.0</td>\n",
       "      <td>1274.0</td>\n",
       "      <td>235.0</td>\n",
       "      <td>558.0</td>\n",
       "      <td>219.0</td>\n",
       "      <td>5.6431</td>\n",
       "      <td>341300.0</td>\n",
       "    </tr>\n",
       "    <tr>\n",
       "      <th>4</th>\n",
       "      <td>-122.25</td>\n",
       "      <td>37.85</td>\n",
       "      <td>52.0</td>\n",
       "      <td>1627.0</td>\n",
       "      <td>280.0</td>\n",
       "      <td>565.0</td>\n",
       "      <td>259.0</td>\n",
       "      <td>3.8462</td>\n",
       "      <td>342200.0</td>\n",
       "    </tr>\n",
       "    <tr>\n",
       "      <th>...</th>\n",
       "      <td>...</td>\n",
       "      <td>...</td>\n",
       "      <td>...</td>\n",
       "      <td>...</td>\n",
       "      <td>...</td>\n",
       "      <td>...</td>\n",
       "      <td>...</td>\n",
       "      <td>...</td>\n",
       "      <td>...</td>\n",
       "    </tr>\n",
       "    <tr>\n",
       "      <th>20635</th>\n",
       "      <td>-121.09</td>\n",
       "      <td>39.48</td>\n",
       "      <td>25.0</td>\n",
       "      <td>1665.0</td>\n",
       "      <td>374.0</td>\n",
       "      <td>845.0</td>\n",
       "      <td>330.0</td>\n",
       "      <td>1.5603</td>\n",
       "      <td>78100.0</td>\n",
       "    </tr>\n",
       "    <tr>\n",
       "      <th>20636</th>\n",
       "      <td>-121.21</td>\n",
       "      <td>39.49</td>\n",
       "      <td>18.0</td>\n",
       "      <td>697.0</td>\n",
       "      <td>150.0</td>\n",
       "      <td>356.0</td>\n",
       "      <td>114.0</td>\n",
       "      <td>2.5568</td>\n",
       "      <td>77100.0</td>\n",
       "    </tr>\n",
       "    <tr>\n",
       "      <th>20637</th>\n",
       "      <td>-121.22</td>\n",
       "      <td>39.43</td>\n",
       "      <td>17.0</td>\n",
       "      <td>2254.0</td>\n",
       "      <td>485.0</td>\n",
       "      <td>1007.0</td>\n",
       "      <td>433.0</td>\n",
       "      <td>1.7000</td>\n",
       "      <td>92300.0</td>\n",
       "    </tr>\n",
       "    <tr>\n",
       "      <th>20638</th>\n",
       "      <td>-121.32</td>\n",
       "      <td>39.43</td>\n",
       "      <td>18.0</td>\n",
       "      <td>1860.0</td>\n",
       "      <td>409.0</td>\n",
       "      <td>741.0</td>\n",
       "      <td>349.0</td>\n",
       "      <td>1.8672</td>\n",
       "      <td>84700.0</td>\n",
       "    </tr>\n",
       "    <tr>\n",
       "      <th>20639</th>\n",
       "      <td>-121.24</td>\n",
       "      <td>39.37</td>\n",
       "      <td>16.0</td>\n",
       "      <td>2785.0</td>\n",
       "      <td>616.0</td>\n",
       "      <td>1387.0</td>\n",
       "      <td>530.0</td>\n",
       "      <td>2.3886</td>\n",
       "      <td>89400.0</td>\n",
       "    </tr>\n",
       "  </tbody>\n",
       "</table>\n",
       "<p>20640 rows × 9 columns</p>\n",
       "</div>"
      ],
      "text/plain": [
       "       longitude  latitude  housingMedianAge  totalRooms  totalBedrooms  \\\n",
       "0        -122.23     37.88              41.0       880.0          129.0   \n",
       "1        -122.22     37.86              21.0      7099.0         1106.0   \n",
       "2        -122.24     37.85              52.0      1467.0          190.0   \n",
       "3        -122.25     37.85              52.0      1274.0          235.0   \n",
       "4        -122.25     37.85              52.0      1627.0          280.0   \n",
       "...          ...       ...               ...         ...            ...   \n",
       "20635    -121.09     39.48              25.0      1665.0          374.0   \n",
       "20636    -121.21     39.49              18.0       697.0          150.0   \n",
       "20637    -121.22     39.43              17.0      2254.0          485.0   \n",
       "20638    -121.32     39.43              18.0      1860.0          409.0   \n",
       "20639    -121.24     39.37              16.0      2785.0          616.0   \n",
       "\n",
       "       population  households  medianIncome  medianHouseValue  \n",
       "0           322.0       126.0        8.3252          452600.0  \n",
       "1          2401.0      1138.0        8.3014          358500.0  \n",
       "2           496.0       177.0        7.2574          352100.0  \n",
       "3           558.0       219.0        5.6431          341300.0  \n",
       "4           565.0       259.0        3.8462          342200.0  \n",
       "...           ...         ...           ...               ...  \n",
       "20635       845.0       330.0        1.5603           78100.0  \n",
       "20636       356.0       114.0        2.5568           77100.0  \n",
       "20637      1007.0       433.0        1.7000           92300.0  \n",
       "20638       741.0       349.0        1.8672           84700.0  \n",
       "20639      1387.0       530.0        2.3886           89400.0  \n",
       "\n",
       "[20640 rows x 9 columns]"
      ]
     },
     "execution_count": 2,
     "metadata": {},
     "output_type": "execute_result"
    }
   ],
   "source": [
    "import numpy as np\n",
    "import matplotlib.pyplot as plt\n",
    "from sklearn.linear_model import LinearRegression\n",
    "from sklearn.metrics import mean_squared_error, r2_score\n",
    "from sklearn.preprocessing import PolynomialFeatures\n",
    "import operator\n",
    "import pandas as pd\n",
    "from  sklearn import preprocessing\n",
    "from sklearn.linear_model import SGDRegressor\n",
    "\n",
    "\n",
    "#Cargue el dataset\n",
    "dataset = pd.read_csv(\"cal_housing.csv\")\n",
    "dataset\n",
    "\n"
   ]
  },
  {
   "cell_type": "code",
   "execution_count": 2,
   "metadata": {},
   "outputs": [],
   "source": [
    "x = dataset.loc[:, dataset.columns != 'medianHouseValue'].values #todas menos la ultima columna\n",
    "y  = dataset.loc[:, dataset.columns == 'medianHouseValue'].values\n"
   ]
  },
  {
   "cell_type": "code",
   "execution_count": 3,
   "metadata": {},
   "outputs": [],
   "source": [
    "#Genere un conjunto de entrenamiento con 80% de los datos y 20% para pruebas,\n",
    "from sklearn.model_selection import train_test_split\n",
    "x_train , x_Test ,y_train , y_test = train_test_split(x,y,test_size= 0.2, random_state= 0,shuffle = True) #Mezcle los datos (set random_state=0)\n"
   ]
  },
  {
   "cell_type": "code",
   "execution_count": 15,
   "metadata": {},
   "outputs": [
    {
     "ename": "KeyboardInterrupt",
     "evalue": "",
     "output_type": "error",
     "traceback": [
      "\u001b[0;31m---------------------------------------------------------------------------\u001b[0m",
      "\u001b[0;31mKeyboardInterrupt\u001b[0m                         Traceback (most recent call last)",
      "\u001b[0;32m/var/folders/zb/0l4s85s95rzbg13c3_fm6k540000gn/T/ipykernel_49396/231275583.py\u001b[0m in \u001b[0;36m<module>\u001b[0;34m\u001b[0m\n\u001b[1;32m     14\u001b[0m \u001b[0;34m\u001b[0m\u001b[0m\n\u001b[1;32m     15\u001b[0m \u001b[0;31m#use k-fold CV to evaluate model\u001b[0m\u001b[0;34m\u001b[0m\u001b[0;34m\u001b[0m\u001b[0m\n\u001b[0;32m---> 16\u001b[0;31m scores = cross_val_score(model, x_Test, y_test, scoring='neg_mean_absolute_error',\n\u001b[0m\u001b[1;32m     17\u001b[0m                          cv=cv, n_jobs=-1)\n\u001b[1;32m     18\u001b[0m \u001b[0;34m\u001b[0m\u001b[0m\n",
      "\u001b[0;32m~/opt/anaconda3/lib/python3.9/site-packages/sklearn/utils/validation.py\u001b[0m in \u001b[0;36minner_f\u001b[0;34m(*args, **kwargs)\u001b[0m\n\u001b[1;32m     61\u001b[0m             \u001b[0mextra_args\u001b[0m \u001b[0;34m=\u001b[0m \u001b[0mlen\u001b[0m\u001b[0;34m(\u001b[0m\u001b[0margs\u001b[0m\u001b[0;34m)\u001b[0m \u001b[0;34m-\u001b[0m \u001b[0mlen\u001b[0m\u001b[0;34m(\u001b[0m\u001b[0mall_args\u001b[0m\u001b[0;34m)\u001b[0m\u001b[0;34m\u001b[0m\u001b[0;34m\u001b[0m\u001b[0m\n\u001b[1;32m     62\u001b[0m             \u001b[0;32mif\u001b[0m \u001b[0mextra_args\u001b[0m \u001b[0;34m<=\u001b[0m \u001b[0;36m0\u001b[0m\u001b[0;34m:\u001b[0m\u001b[0;34m\u001b[0m\u001b[0;34m\u001b[0m\u001b[0m\n\u001b[0;32m---> 63\u001b[0;31m                 \u001b[0;32mreturn\u001b[0m \u001b[0mf\u001b[0m\u001b[0;34m(\u001b[0m\u001b[0;34m*\u001b[0m\u001b[0margs\u001b[0m\u001b[0;34m,\u001b[0m \u001b[0;34m**\u001b[0m\u001b[0mkwargs\u001b[0m\u001b[0;34m)\u001b[0m\u001b[0;34m\u001b[0m\u001b[0;34m\u001b[0m\u001b[0m\n\u001b[0m\u001b[1;32m     64\u001b[0m \u001b[0;34m\u001b[0m\u001b[0m\n\u001b[1;32m     65\u001b[0m             \u001b[0;31m# extra_args > 0\u001b[0m\u001b[0;34m\u001b[0m\u001b[0;34m\u001b[0m\u001b[0m\n",
      "\u001b[0;32m~/opt/anaconda3/lib/python3.9/site-packages/sklearn/model_selection/_validation.py\u001b[0m in \u001b[0;36mcross_val_score\u001b[0;34m(estimator, X, y, groups, scoring, cv, n_jobs, verbose, fit_params, pre_dispatch, error_score)\u001b[0m\n\u001b[1;32m    443\u001b[0m     \u001b[0mscorer\u001b[0m \u001b[0;34m=\u001b[0m \u001b[0mcheck_scoring\u001b[0m\u001b[0;34m(\u001b[0m\u001b[0mestimator\u001b[0m\u001b[0;34m,\u001b[0m \u001b[0mscoring\u001b[0m\u001b[0;34m=\u001b[0m\u001b[0mscoring\u001b[0m\u001b[0;34m)\u001b[0m\u001b[0;34m\u001b[0m\u001b[0;34m\u001b[0m\u001b[0m\n\u001b[1;32m    444\u001b[0m \u001b[0;34m\u001b[0m\u001b[0m\n\u001b[0;32m--> 445\u001b[0;31m     cv_results = cross_validate(estimator=estimator, X=X, y=y, groups=groups,\n\u001b[0m\u001b[1;32m    446\u001b[0m                                 \u001b[0mscoring\u001b[0m\u001b[0;34m=\u001b[0m\u001b[0;34m{\u001b[0m\u001b[0;34m'score'\u001b[0m\u001b[0;34m:\u001b[0m \u001b[0mscorer\u001b[0m\u001b[0;34m}\u001b[0m\u001b[0;34m,\u001b[0m \u001b[0mcv\u001b[0m\u001b[0;34m=\u001b[0m\u001b[0mcv\u001b[0m\u001b[0;34m,\u001b[0m\u001b[0;34m\u001b[0m\u001b[0;34m\u001b[0m\u001b[0m\n\u001b[1;32m    447\u001b[0m                                 \u001b[0mn_jobs\u001b[0m\u001b[0;34m=\u001b[0m\u001b[0mn_jobs\u001b[0m\u001b[0;34m,\u001b[0m \u001b[0mverbose\u001b[0m\u001b[0;34m=\u001b[0m\u001b[0mverbose\u001b[0m\u001b[0;34m,\u001b[0m\u001b[0;34m\u001b[0m\u001b[0;34m\u001b[0m\u001b[0m\n",
      "\u001b[0;32m~/opt/anaconda3/lib/python3.9/site-packages/sklearn/utils/validation.py\u001b[0m in \u001b[0;36minner_f\u001b[0;34m(*args, **kwargs)\u001b[0m\n\u001b[1;32m     61\u001b[0m             \u001b[0mextra_args\u001b[0m \u001b[0;34m=\u001b[0m \u001b[0mlen\u001b[0m\u001b[0;34m(\u001b[0m\u001b[0margs\u001b[0m\u001b[0;34m)\u001b[0m \u001b[0;34m-\u001b[0m \u001b[0mlen\u001b[0m\u001b[0;34m(\u001b[0m\u001b[0mall_args\u001b[0m\u001b[0;34m)\u001b[0m\u001b[0;34m\u001b[0m\u001b[0;34m\u001b[0m\u001b[0m\n\u001b[1;32m     62\u001b[0m             \u001b[0;32mif\u001b[0m \u001b[0mextra_args\u001b[0m \u001b[0;34m<=\u001b[0m \u001b[0;36m0\u001b[0m\u001b[0;34m:\u001b[0m\u001b[0;34m\u001b[0m\u001b[0;34m\u001b[0m\u001b[0m\n\u001b[0;32m---> 63\u001b[0;31m                 \u001b[0;32mreturn\u001b[0m \u001b[0mf\u001b[0m\u001b[0;34m(\u001b[0m\u001b[0;34m*\u001b[0m\u001b[0margs\u001b[0m\u001b[0;34m,\u001b[0m \u001b[0;34m**\u001b[0m\u001b[0mkwargs\u001b[0m\u001b[0;34m)\u001b[0m\u001b[0;34m\u001b[0m\u001b[0;34m\u001b[0m\u001b[0m\n\u001b[0m\u001b[1;32m     64\u001b[0m \u001b[0;34m\u001b[0m\u001b[0m\n\u001b[1;32m     65\u001b[0m             \u001b[0;31m# extra_args > 0\u001b[0m\u001b[0;34m\u001b[0m\u001b[0;34m\u001b[0m\u001b[0m\n",
      "\u001b[0;32m~/opt/anaconda3/lib/python3.9/site-packages/sklearn/model_selection/_validation.py\u001b[0m in \u001b[0;36mcross_validate\u001b[0;34m(estimator, X, y, groups, scoring, cv, n_jobs, verbose, fit_params, pre_dispatch, return_train_score, return_estimator, error_score)\u001b[0m\n\u001b[1;32m    248\u001b[0m     parallel = Parallel(n_jobs=n_jobs, verbose=verbose,\n\u001b[1;32m    249\u001b[0m                         pre_dispatch=pre_dispatch)\n\u001b[0;32m--> 250\u001b[0;31m     results = parallel(\n\u001b[0m\u001b[1;32m    251\u001b[0m         delayed(_fit_and_score)(\n\u001b[1;32m    252\u001b[0m             \u001b[0mclone\u001b[0m\u001b[0;34m(\u001b[0m\u001b[0mestimator\u001b[0m\u001b[0;34m)\u001b[0m\u001b[0;34m,\u001b[0m \u001b[0mX\u001b[0m\u001b[0;34m,\u001b[0m \u001b[0my\u001b[0m\u001b[0;34m,\u001b[0m \u001b[0mscorers\u001b[0m\u001b[0;34m,\u001b[0m \u001b[0mtrain\u001b[0m\u001b[0;34m,\u001b[0m \u001b[0mtest\u001b[0m\u001b[0;34m,\u001b[0m \u001b[0mverbose\u001b[0m\u001b[0;34m,\u001b[0m \u001b[0;32mNone\u001b[0m\u001b[0;34m,\u001b[0m\u001b[0;34m\u001b[0m\u001b[0;34m\u001b[0m\u001b[0m\n",
      "\u001b[0;32m~/opt/anaconda3/lib/python3.9/site-packages/joblib/parallel.py\u001b[0m in \u001b[0;36m__call__\u001b[0;34m(self, iterable)\u001b[0m\n\u001b[1;32m   1054\u001b[0m \u001b[0;34m\u001b[0m\u001b[0m\n\u001b[1;32m   1055\u001b[0m             \u001b[0;32mwith\u001b[0m \u001b[0mself\u001b[0m\u001b[0;34m.\u001b[0m\u001b[0m_backend\u001b[0m\u001b[0;34m.\u001b[0m\u001b[0mretrieval_context\u001b[0m\u001b[0;34m(\u001b[0m\u001b[0;34m)\u001b[0m\u001b[0;34m:\u001b[0m\u001b[0;34m\u001b[0m\u001b[0;34m\u001b[0m\u001b[0m\n\u001b[0;32m-> 1056\u001b[0;31m                 \u001b[0mself\u001b[0m\u001b[0;34m.\u001b[0m\u001b[0mretrieve\u001b[0m\u001b[0;34m(\u001b[0m\u001b[0;34m)\u001b[0m\u001b[0;34m\u001b[0m\u001b[0;34m\u001b[0m\u001b[0m\n\u001b[0m\u001b[1;32m   1057\u001b[0m             \u001b[0;31m# Make sure that we get a last message telling us we are done\u001b[0m\u001b[0;34m\u001b[0m\u001b[0;34m\u001b[0m\u001b[0m\n\u001b[1;32m   1058\u001b[0m             \u001b[0melapsed_time\u001b[0m \u001b[0;34m=\u001b[0m \u001b[0mtime\u001b[0m\u001b[0;34m.\u001b[0m\u001b[0mtime\u001b[0m\u001b[0;34m(\u001b[0m\u001b[0;34m)\u001b[0m \u001b[0;34m-\u001b[0m \u001b[0mself\u001b[0m\u001b[0;34m.\u001b[0m\u001b[0m_start_time\u001b[0m\u001b[0;34m\u001b[0m\u001b[0;34m\u001b[0m\u001b[0m\n",
      "\u001b[0;32m~/opt/anaconda3/lib/python3.9/site-packages/joblib/parallel.py\u001b[0m in \u001b[0;36mretrieve\u001b[0;34m(self)\u001b[0m\n\u001b[1;32m    933\u001b[0m             \u001b[0;32mtry\u001b[0m\u001b[0;34m:\u001b[0m\u001b[0;34m\u001b[0m\u001b[0;34m\u001b[0m\u001b[0m\n\u001b[1;32m    934\u001b[0m                 \u001b[0;32mif\u001b[0m \u001b[0mgetattr\u001b[0m\u001b[0;34m(\u001b[0m\u001b[0mself\u001b[0m\u001b[0;34m.\u001b[0m\u001b[0m_backend\u001b[0m\u001b[0;34m,\u001b[0m \u001b[0;34m'supports_timeout'\u001b[0m\u001b[0;34m,\u001b[0m \u001b[0;32mFalse\u001b[0m\u001b[0;34m)\u001b[0m\u001b[0;34m:\u001b[0m\u001b[0;34m\u001b[0m\u001b[0;34m\u001b[0m\u001b[0m\n\u001b[0;32m--> 935\u001b[0;31m                     \u001b[0mself\u001b[0m\u001b[0;34m.\u001b[0m\u001b[0m_output\u001b[0m\u001b[0;34m.\u001b[0m\u001b[0mextend\u001b[0m\u001b[0;34m(\u001b[0m\u001b[0mjob\u001b[0m\u001b[0;34m.\u001b[0m\u001b[0mget\u001b[0m\u001b[0;34m(\u001b[0m\u001b[0mtimeout\u001b[0m\u001b[0;34m=\u001b[0m\u001b[0mself\u001b[0m\u001b[0;34m.\u001b[0m\u001b[0mtimeout\u001b[0m\u001b[0;34m)\u001b[0m\u001b[0;34m)\u001b[0m\u001b[0;34m\u001b[0m\u001b[0;34m\u001b[0m\u001b[0m\n\u001b[0m\u001b[1;32m    936\u001b[0m                 \u001b[0;32melse\u001b[0m\u001b[0;34m:\u001b[0m\u001b[0;34m\u001b[0m\u001b[0;34m\u001b[0m\u001b[0m\n\u001b[1;32m    937\u001b[0m                     \u001b[0mself\u001b[0m\u001b[0;34m.\u001b[0m\u001b[0m_output\u001b[0m\u001b[0;34m.\u001b[0m\u001b[0mextend\u001b[0m\u001b[0;34m(\u001b[0m\u001b[0mjob\u001b[0m\u001b[0;34m.\u001b[0m\u001b[0mget\u001b[0m\u001b[0;34m(\u001b[0m\u001b[0;34m)\u001b[0m\u001b[0;34m)\u001b[0m\u001b[0;34m\u001b[0m\u001b[0;34m\u001b[0m\u001b[0m\n",
      "\u001b[0;32m~/opt/anaconda3/lib/python3.9/site-packages/joblib/_parallel_backends.py\u001b[0m in \u001b[0;36mwrap_future_result\u001b[0;34m(future, timeout)\u001b[0m\n\u001b[1;32m    540\u001b[0m         AsyncResults.get from multiprocessing.\"\"\"\n\u001b[1;32m    541\u001b[0m         \u001b[0;32mtry\u001b[0m\u001b[0;34m:\u001b[0m\u001b[0;34m\u001b[0m\u001b[0;34m\u001b[0m\u001b[0m\n\u001b[0;32m--> 542\u001b[0;31m             \u001b[0;32mreturn\u001b[0m \u001b[0mfuture\u001b[0m\u001b[0;34m.\u001b[0m\u001b[0mresult\u001b[0m\u001b[0;34m(\u001b[0m\u001b[0mtimeout\u001b[0m\u001b[0;34m=\u001b[0m\u001b[0mtimeout\u001b[0m\u001b[0;34m)\u001b[0m\u001b[0;34m\u001b[0m\u001b[0;34m\u001b[0m\u001b[0m\n\u001b[0m\u001b[1;32m    543\u001b[0m         \u001b[0;32mexcept\u001b[0m \u001b[0mCfTimeoutError\u001b[0m \u001b[0;32mas\u001b[0m \u001b[0me\u001b[0m\u001b[0;34m:\u001b[0m\u001b[0;34m\u001b[0m\u001b[0;34m\u001b[0m\u001b[0m\n\u001b[1;32m    544\u001b[0m             \u001b[0;32mraise\u001b[0m \u001b[0mTimeoutError\u001b[0m \u001b[0;32mfrom\u001b[0m \u001b[0me\u001b[0m\u001b[0;34m\u001b[0m\u001b[0;34m\u001b[0m\u001b[0m\n",
      "\u001b[0;32m~/opt/anaconda3/lib/python3.9/concurrent/futures/_base.py\u001b[0m in \u001b[0;36mresult\u001b[0;34m(self, timeout)\u001b[0m\n\u001b[1;32m    438\u001b[0m                     \u001b[0;32mreturn\u001b[0m \u001b[0mself\u001b[0m\u001b[0;34m.\u001b[0m\u001b[0m__get_result\u001b[0m\u001b[0;34m(\u001b[0m\u001b[0;34m)\u001b[0m\u001b[0;34m\u001b[0m\u001b[0;34m\u001b[0m\u001b[0m\n\u001b[1;32m    439\u001b[0m \u001b[0;34m\u001b[0m\u001b[0m\n\u001b[0;32m--> 440\u001b[0;31m                 \u001b[0mself\u001b[0m\u001b[0;34m.\u001b[0m\u001b[0m_condition\u001b[0m\u001b[0;34m.\u001b[0m\u001b[0mwait\u001b[0m\u001b[0;34m(\u001b[0m\u001b[0mtimeout\u001b[0m\u001b[0;34m)\u001b[0m\u001b[0;34m\u001b[0m\u001b[0;34m\u001b[0m\u001b[0m\n\u001b[0m\u001b[1;32m    441\u001b[0m \u001b[0;34m\u001b[0m\u001b[0m\n\u001b[1;32m    442\u001b[0m                 \u001b[0;32mif\u001b[0m \u001b[0mself\u001b[0m\u001b[0;34m.\u001b[0m\u001b[0m_state\u001b[0m \u001b[0;32min\u001b[0m \u001b[0;34m[\u001b[0m\u001b[0mCANCELLED\u001b[0m\u001b[0;34m,\u001b[0m \u001b[0mCANCELLED_AND_NOTIFIED\u001b[0m\u001b[0;34m]\u001b[0m\u001b[0;34m:\u001b[0m\u001b[0;34m\u001b[0m\u001b[0;34m\u001b[0m\u001b[0m\n",
      "\u001b[0;32m~/opt/anaconda3/lib/python3.9/threading.py\u001b[0m in \u001b[0;36mwait\u001b[0;34m(self, timeout)\u001b[0m\n\u001b[1;32m    310\u001b[0m         \u001b[0;32mtry\u001b[0m\u001b[0;34m:\u001b[0m    \u001b[0;31m# restore state no matter what (e.g., KeyboardInterrupt)\u001b[0m\u001b[0;34m\u001b[0m\u001b[0;34m\u001b[0m\u001b[0m\n\u001b[1;32m    311\u001b[0m             \u001b[0;32mif\u001b[0m \u001b[0mtimeout\u001b[0m \u001b[0;32mis\u001b[0m \u001b[0;32mNone\u001b[0m\u001b[0;34m:\u001b[0m\u001b[0;34m\u001b[0m\u001b[0;34m\u001b[0m\u001b[0m\n\u001b[0;32m--> 312\u001b[0;31m                 \u001b[0mwaiter\u001b[0m\u001b[0;34m.\u001b[0m\u001b[0macquire\u001b[0m\u001b[0;34m(\u001b[0m\u001b[0;34m)\u001b[0m\u001b[0;34m\u001b[0m\u001b[0;34m\u001b[0m\u001b[0m\n\u001b[0m\u001b[1;32m    313\u001b[0m                 \u001b[0mgotit\u001b[0m \u001b[0;34m=\u001b[0m \u001b[0;32mTrue\u001b[0m\u001b[0;34m\u001b[0m\u001b[0;34m\u001b[0m\u001b[0m\n\u001b[1;32m    314\u001b[0m             \u001b[0;32melse\u001b[0m\u001b[0;34m:\u001b[0m\u001b[0;34m\u001b[0m\u001b[0;34m\u001b[0m\u001b[0m\n",
      "\u001b[0;31mKeyboardInterrupt\u001b[0m: "
     ]
    }
   ],
   "source": [
    "from sklearn.model_selection import train_test_split\n",
    "from sklearn.model_selection import KFold\n",
    "from sklearn.model_selection import cross_val_score\n",
    "from sklearn.linear_model import LinearRegression\n",
    "from numpy import mean\n",
    "from numpy import absolute\n",
    "from numpy import sqrt\n",
    "import pandas as pd\n",
    "\n",
    "cv = KFold(n_splits=10, random_state=1, shuffle=True)\n",
    "\n",
    "#build multiple linear regression model\n",
    "model = LinearRegression()\n",
    "\n",
    "#use k-fold CV to evaluate model\n",
    "scores = cross_val_score(model, x_Test, y_test, scoring='neg_mean_absolute_error',\n",
    "                         cv=cv, n_jobs=-1)\n",
    "\n",
    "#view mean absolute error\n",
    "mean(absolute(scores))\n"
   ]
  },
  {
   "cell_type": "code",
   "execution_count": 4,
   "metadata": {},
   "outputs": [],
   "source": [
    "class validation_set:\n",
    "    def __init__(self, X_train, y_train, X_test, y_test):\n",
    "        self.X_train = X_train\n",
    "        self.y_train = y_train\n",
    "        self.X_test = X_test\n",
    "        self.y_test = y_test"
   ]
  },
  {
   "cell_type": "code",
   "execution_count": 5,
   "metadata": {},
   "outputs": [],
   "source": [
    "import csv\n",
    "def create_csv(name_file, data,  list_opt = False):\n",
    "    new_data = data.tolist()\n",
    "\n",
    "    with open(name_file, 'w', newline='') as f:\n",
    "        if list_opt:\n",
    "            new_new_data = [[i] for i in new_data]\n",
    "        else:\n",
    "            new_new_data = new_data\n",
    "        write = csv.writer(f)\n",
    "        write.writerows(new_new_data)"
   ]
  },
  {
   "cell_type": "code",
   "execution_count": 18,
   "metadata": {},
   "outputs": [],
   "source": [
    "from sklearn.model_selection import KFold\n",
    "validation_sets = []\n",
    "kf = KFold(n_splits = 10)\n",
    "c = 0\n",
    "\n",
    "for train_index, test_index in kf.split(x_train):\n",
    "    c = c + 1\n",
    "    X_train_v, X_test_v = x_train[train_index], x_train[test_index]\n",
    "    y_train_v, y_test_v = y_train[train_index], y_train[test_index]\n",
    "    validation_sets.append(validation_set(X_train_v, y_train_v, X_test_v, y_test_v))\n",
    "    create_csv(name_file = \"./data_validation_train_\" + str(10) + \"_\" + str(c) + \".csv\", \n",
    "                    data = X_train_v)\n",
    "    create_csv(name_file = \"./target_validation_train_\" + str(10) + \"_\" + str(c) + \".csv\", \n",
    "                    data = y_train_v)"
   ]
  },
  {
   "cell_type": "markdown",
   "metadata": {},
   "source": [
    "Leemos el archivo"
   ]
  },
  {
   "cell_type": "code",
   "execution_count": 6,
   "metadata": {},
   "outputs": [],
   "source": [
    "names = [\"longitude\",\"latitude\",\"housingMedianAge\",\"totalRooms\",\"totalBedrooms\",\"population\",\"households\",\"medianIncome\"]\n",
    "names_y = [\"medianHouseValue\"]\n",
    "\n",
    "dataset_validation_x = pd.read_csv(\"data_validation_train_10_1.csv\" ,  header=None)\n",
    "dataset_validation_y = pd.read_csv(\"target_validation_train_10_1.csv\" ,  header=None)\n"
   ]
  },
  {
   "cell_type": "code",
   "execution_count": 7,
   "metadata": {},
   "outputs": [],
   "source": [
    "yy  = dataset_validation_y.values\n",
    "xx = dataset_validation_x.values"
   ]
  },
  {
   "cell_type": "markdown",
   "metadata": {},
   "source": [
    "Utilice regresión lineal mediante gradiente descendiente estocástico para generar una línea que sea justo lo mejor posible a los datos(modificando parámetros max_iter,learning_rate y eta0) y reporte el error cuadrado medio (MSE) y el coeficiente de determinación (r2)"
   ]
  },
  {
   "cell_type": "code",
   "execution_count": 15,
   "metadata": {},
   "outputs": [
    {
     "name": "stderr",
     "output_type": "stream",
     "text": [
      "/Users/adolfohuerta/opt/anaconda3/lib/python3.9/site-packages/sklearn/utils/validation.py:63: DataConversionWarning: A column-vector y was passed when a 1d array was expected. Please change the shape of y to (n_samples, ), for example using ravel().\n",
      "  return f(*args, **kwargs)\n"
     ]
    },
    {
     "name": "stdout",
     "output_type": "stream",
     "text": [
      "((0, 294972.7665147612), (1, 392202.25987030275), (2, 275079.29412851227), (3, 68553.34036585988), (4, 214872.5043534284), (5, 226617.48650468024), (6, 356491.69502275967), (7, 355029.5739764598))\n",
      "   x      Predicted\n",
      "0  0  294972.766515\n",
      "1  1  392202.259870\n",
      "2  2  275079.294129\n",
      "3  3   68553.340366\n",
      "4  4  214872.504353\n",
      "5  5  226617.486505\n",
      "6  6  356491.695023\n",
      "7  7  355029.573976\n",
      "Regresión polinomial estocástico grado 3 escalado robusto\n",
      "mse: 6470195621.483195 r2: 0.5145417755587678\n"
     ]
    },
    {
     "name": "stderr",
     "output_type": "stream",
     "text": [
      "/Users/adolfohuerta/opt/anaconda3/lib/python3.9/site-packages/sklearn/linear_model/_stochastic_gradient.py:1225: ConvergenceWarning: Maximum number of iteration reached before convergence. Consider increasing max_iter to improve the fit.\n",
      "  warnings.warn(\"Maximum number of iteration reached before \"\n"
     ]
    },
    {
     "data": {
      "image/png": "[encoded data removed]",
      "text/plain": [
       "<Figure size 432x288 with 1 Axes>"
      ]
     },
     "metadata": {
      "needs_background": "light"
     },
     "output_type": "display_data"
    }
   ],
   "source": [
    "mse_list = []\n",
    "r2_list = []\n",
    "\n",
    "\n",
    "polynomial_features= PolynomialFeatures(degree=1)\n",
    "x_poly = polynomial_features.fit_transform(xx)\n",
    "x_poly_robust_scaler = preprocessing.RobustScaler().fit_transform(x_poly)\n",
    "regr = SGDRegressor(learning_rate = 'invscaling', eta0 = 0.00001 , max_iter= 1000)\n",
    "regr.fit(x_poly_robust_scaler, yy)\n",
    "y_poly_pred = regr.predict(x_poly_robust_scaler)\n",
    "mse = mean_squared_error(yy, y_poly_pred)\n",
    "r2 = r2_score(yy, y_poly_pred)\n",
    "\n",
    "mse_list.append(mse)\n",
    "r2_list.append(r2)\n",
    "\n",
    "# ~ #Ajustes para que la curva trazada se vea correctamente\n",
    "sort_axis = operator.itemgetter(0)\n",
    "sorted_zip = sorted(zip(dataset_validation_x,y_poly_pred), key=sort_axis)\n",
    "print (tuple(sorted_zip))\n",
    "x_sorted, y_poly_pred = zip(*sorted_zip)\n",
    "print(pd.DataFrame({'x': np.reshape(x_sorted,(1,-1))[0], 'Predicted': y_poly_pred}))\n",
    "plt.plot(x_sorted, y_poly_pred, color='b')\n",
    "print ('Regresión polinomial estocástico grado 3 escalado robusto\\nmse: {} r2: {}'.format(mse, r2))\n"
   ]
  },
  {
   "cell_type": "markdown",
   "metadata": {},
   "source": [
    "Utilice regresión polinomial mediante gradiente descendiente estocástico con polinomios de grado 2 y 3 para generar una línea curva que sea justo lo mejor posible a los datos(modificando parámetros max_iter,learning_rate y eta0) y reporte MSE y r2"
   ]
  },
  {
   "cell_type": "code",
   "execution_count": 12,
   "metadata": {},
   "outputs": [
    {
     "name": "stderr",
     "output_type": "stream",
     "text": [
      "/Users/adolfohuerta/opt/anaconda3/lib/python3.9/site-packages/sklearn/utils/validation.py:63: DataConversionWarning: A column-vector y was passed when a 1d array was expected. Please change the shape of y to (n_samples, ), for example using ravel().\n",
      "  return f(*args, **kwargs)\n"
     ]
    },
    {
     "name": "stdout",
     "output_type": "stream",
     "text": [
      "((0, 236388.9894287563), (1, 287952.73123039573), (2, 186387.77285871963), (3, -48859.07258702924), (4, 90766.33504170351), (5, 142678.05149216263), (6, 303241.80367139156), (7, 409544.7748350272))\n",
      "   x      Predicted\n",
      "0  0  236388.989429\n",
      "1  1  287952.731230\n",
      "2  2  186387.772859\n",
      "3  3  -48859.072587\n",
      "4  4   90766.335042\n",
      "5  5  142678.051492\n",
      "6  6  303241.803671\n",
      "7  7  409544.774835\n",
      "Regresión polinomial estocástico grado 3 escalado robusto\n",
      "mse: 20581066579.748657 r2: -0.544195666316071\n"
     ]
    },
    {
     "name": "stderr",
     "output_type": "stream",
     "text": [
      "/Users/adolfohuerta/opt/anaconda3/lib/python3.9/site-packages/sklearn/linear_model/_stochastic_gradient.py:1225: ConvergenceWarning: Maximum number of iteration reached before convergence. Consider increasing max_iter to improve the fit.\n",
      "  warnings.warn(\"Maximum number of iteration reached before \"\n"
     ]
    },
    {
     "data": {
      "image/png": "[encoded data removed]",
      "text/plain": [
       "<Figure size 432x288 with 1 Axes>"
      ]
     },
     "metadata": {
      "needs_background": "light"
     },
     "output_type": "display_data"
    }
   ],
   "source": [
    "mse_list = []\n",
    "r2_list = []\n",
    "\n",
    "\n",
    "polynomial_features= PolynomialFeatures(degree=2)\n",
    "x_poly = polynomial_features.fit_transform(xx)\n",
    "x_poly_robust_scaler = preprocessing.RobustScaler().fit_transform(x_poly)\n",
    "regr = SGDRegressor(learning_rate = 'invscaling', eta0 = 0.000001 , max_iter= 1000)\n",
    "regr.fit(x_poly_robust_scaler, yy)\n",
    "y_poly_pred = regr.predict(x_poly_robust_scaler)\n",
    "mse = mean_squared_error(yy, y_poly_pred)\n",
    "r2 = r2_score(yy, y_poly_pred)\n",
    "\n",
    "mse_list.append(mse)\n",
    "r2_list.append(r2)\n",
    "\n",
    "# ~ #Ajustes para que la curva trazada se vea correctamente\n",
    "sort_axis = operator.itemgetter(0)\n",
    "sorted_zip = sorted(zip(dataset_validation_x,y_poly_pred), key=sort_axis)\n",
    "print (tuple(sorted_zip))\n",
    "x_sorted, y_poly_pred = zip(*sorted_zip)\n",
    "print(pd.DataFrame({'x': np.reshape(x_sorted,(1,-1))[0], 'Predicted': y_poly_pred}))\n",
    "plt.plot(x_sorted, y_poly_pred, color='b')\n",
    "print ('Regresión polinomial estocástico grado 3 escalado robusto\\nmse: {} r2: {}'.format(mse, r2))\n"
   ]
  },
  {
   "cell_type": "code",
   "execution_count": 10,
   "metadata": {},
   "outputs": [
    {
     "name": "stderr",
     "output_type": "stream",
     "text": [
      "/Users/adolfohuerta/opt/anaconda3/lib/python3.9/site-packages/sklearn/utils/validation.py:63: DataConversionWarning: A column-vector y was passed when a 1d array was expected. Please change the shape of y to (n_samples, ), for example using ravel().\n",
      "  return f(*args, **kwargs)\n"
     ]
    },
    {
     "name": "stdout",
     "output_type": "stream",
     "text": [
      "((0, 128247.66438736275), (1, 164843.6177727348), (2, 82335.88636017154), (3, -45028.995387146526), (4, 46825.20799235504), (5, 64323.718393714655), (6, 194162.7011905061), (7, 432031.27876050875))\n",
      "   x      Predicted\n",
      "0  0  128247.664387\n",
      "1  1  164843.617773\n",
      "2  2   82335.886360\n",
      "3  3  -45028.995387\n",
      "4  4   46825.207992\n",
      "5  5   64323.718394\n",
      "6  6  194162.701191\n",
      "7  7  432031.278761\n",
      "Regresión polinomial estocástico grado 3 escalado robusto\n",
      "mse: 35095357005.53236 r2: -1.6332016363566062\n"
     ]
    },
    {
     "name": "stderr",
     "output_type": "stream",
     "text": [
      "/Users/adolfohuerta/opt/anaconda3/lib/python3.9/site-packages/sklearn/linear_model/_stochastic_gradient.py:1225: ConvergenceWarning: Maximum number of iteration reached before convergence. Consider increasing max_iter to improve the fit.\n",
      "  warnings.warn(\"Maximum number of iteration reached before \"\n"
     ]
    },
    {
     "data": {
      "image/png": "[encoded data removed]",
      "text/plain": [
       "<Figure size 432x288 with 1 Axes>"
      ]
     },
     "metadata": {
      "needs_background": "light"
     },
     "output_type": "display_data"
    }
   ],
   "source": [
    "mse_list = []\n",
    "r2_list = []\n",
    "\n",
    "\n",
    "polynomial_features= PolynomialFeatures(degree=3)\n",
    "x_poly = polynomial_features.fit_transform(xx)\n",
    "x_poly_robust_scaler = preprocessing.RobustScaler().fit_transform(x_poly)\n",
    "regr = SGDRegressor(learning_rate = 'invscaling', eta0 = 0.0000001 , max_iter= 1000)\n",
    "regr.fit(x_poly_robust_scaler, yy)\n",
    "y_poly_pred = regr.predict(x_poly_robust_scaler)\n",
    "mse = mean_squared_error(yy, y_poly_pred)\n",
    "r2 = r2_score(yy, y_poly_pred)\n",
    "\n",
    "mse_list.append(mse)\n",
    "r2_list.append(r2)\n",
    "\n",
    "# ~ #Ajustes para que la curva trazada se vea correctamente\n",
    "sort_axis = operator.itemgetter(0)\n",
    "sorted_zip = sorted(zip(dataset_validation_x,y_poly_pred), key=sort_axis)\n",
    "print (tuple(sorted_zip))\n",
    "x_sorted, y_poly_pred = zip(*sorted_zip)\n",
    "print(pd.DataFrame({'x': np.reshape(x_sorted,(1,-1))[0], 'Predicted': y_poly_pred}))\n",
    "plt.plot(x_sorted, y_poly_pred, color='b')\n",
    "print ('Regresión polinomial estocástico grado 3 escalado robusto\\nmse: {} r2: {}'.format(mse, r2))\n"
   ]
  },
  {
   "cell_type": "markdown",
   "metadata": {},
   "source": [
    "Almacene los valores MSE y r2 de cada pliegue y al terminar los 10 pliegues reporte el resultado promedio estos"
   ]
  },
  {
   "cell_type": "code",
   "execution_count": 4,
   "metadata": {},
   "outputs": [
    {
     "data": {
      "text/plain": [
       "'dataset_validation_x6 = pd.read_csv(\"data_validation_train_10_7.csv\" ,  header=None)\\ndataset_validation_y6 = pd.read_csv(\"target_validation_train_10_7.csv\" ,  header=None)\\n\\ndataset_validation_x7 = pd.read_csv(\"data_validation_train_10_8.csv\" ,  header=None)\\ndataset_validation_y7 = pd.read_csv(\"target_validation_train_10_8.csv\" ,  header=None)\\n\\ndataset_validation_x8 = pd.read_csv(\"data_validation_train_10_9.csv\" ,  header=None)\\ndataset_validation_y8 = pd.read_csv(\"target_validation_train_10_9.csv\" ,  header=None)\\n\\ndataset_validation_x9 = pd.read_csv(\"data_validation_train_10_10.csv\" ,  header=None)\\ndataset_validation_y9 = pd.read_csv(\"target_validation_train_10_10.csv\" ,  header=None)'"
      ]
     },
     "execution_count": 4,
     "metadata": {},
     "output_type": "execute_result"
    }
   ],
   "source": [
    "dataset_validation_x = pd.read_csv(\"data_validation_train_10_1.csv\" ,  header=None)\n",
    "dataset_validation_y = pd.read_csv(\"target_validation_train_10_1.csv\" ,  header=None)\n",
    "\n",
    "dataset_validation_x1 = pd.read_csv(\"data_validation_train_10_2.csv\" ,  header=None)\n",
    "dataset_validation_y1 = pd.read_csv(\"target_validation_train_10_2.csv\" ,  header=None)\n",
    "\n",
    "dataset_validation_x2 = pd.read_csv(\"data_validation_train_10_3.csv\" ,  header=None)\n",
    "dataset_validation_y2 = pd.read_csv(\"target_validation_train_10_3.csv\" ,  header=None)\n",
    "\n",
    "dataset_validation_x3 = pd.read_csv(\"data_validation_train_10_4.csv\" ,  header=None)\n",
    "dataset_validation_y3 = pd.read_csv(\"target_validation_train_10_4.csv\" ,  header=None)\n",
    "\n",
    "dataset_validation_x4 = pd.read_csv(\"data_validation_train_10_5.csv\" ,  header=None)\n",
    "dataset_validation_y4 = pd.read_csv(\"target_validation_train_10_5.csv\" ,  header=None)\n",
    "\n",
    "dataset_validation_x5 = pd.read_csv(\"data_validation_train_10_6.csv\" ,  header=None)\n",
    "dataset_validation_y5 = pd.read_csv(\"target_validation_train_10_6.csv\" ,  header=None)\n",
    "\n",
    "\"\"\"dataset_validation_x6 = pd.read_csv(\"data_validation_train_10_7.csv\" ,  header=None)\n",
    "dataset_validation_y6 = pd.read_csv(\"target_validation_train_10_7.csv\" ,  header=None)\n",
    "\n",
    "dataset_validation_x7 = pd.read_csv(\"data_validation_train_10_8.csv\" ,  header=None)\n",
    "dataset_validation_y7 = pd.read_csv(\"target_validation_train_10_8.csv\" ,  header=None)\n",
    "\n",
    "dataset_validation_x8 = pd.read_csv(\"data_validation_train_10_9.csv\" ,  header=None)\n",
    "dataset_validation_y8 = pd.read_csv(\"target_validation_train_10_9.csv\" ,  header=None)\n",
    "\n",
    "dataset_validation_x9 = pd.read_csv(\"data_validation_train_10_10.csv\" ,  header=None)\n",
    "dataset_validation_y9 = pd.read_csv(\"target_validation_train_10_10.csv\" ,  header=None)\"\"\""
   ]
  },
  {
   "cell_type": "code",
   "execution_count": 5,
   "metadata": {},
   "outputs": [
    {
     "data": {
      "text/plain": [
       "'yy6  = dataset_validation_y6.values\\nxx6 = dataset_validation_x6.values\\n\\nyy7  = dataset_validation_y7.values\\nxx7 = dataset_validation_x7.values\\n\\nyy8  = dataset_validation_y8.values\\nxx8 = dataset_validation_x8.values\\n\\nyy9  = dataset_validation_y9.values\\nxx9 = dataset_validation_x9.values'"
      ]
     },
     "execution_count": 5,
     "metadata": {},
     "output_type": "execute_result"
    }
   ],
   "source": [
    "yy  = dataset_validation_y.values\n",
    "xx = dataset_validation_x.values\n",
    "\n",
    "yy1  = dataset_validation_y1.values\n",
    "xx1 = dataset_validation_x1.values\n",
    "\n",
    "yy2  = dataset_validation_y2.values\n",
    "xx2 = dataset_validation_x2.values\n",
    "\n",
    "yy3  = dataset_validation_y3.values\n",
    "xx3 = dataset_validation_x3.values\n",
    "\n",
    "yy4  = dataset_validation_x4.values\n",
    "xx4 = dataset_validation_y4.values\n",
    "\n",
    "yy5  = dataset_validation_y5.values\n",
    "xx5 = dataset_validation_x5.values\n",
    "\n",
    "\"\"\"yy6  = dataset_validation_y6.values\n",
    "xx6 = dataset_validation_x6.values\n",
    "\n",
    "yy7  = dataset_validation_y7.values\n",
    "xx7 = dataset_validation_x7.values\n",
    "\n",
    "yy8  = dataset_validation_y8.values\n",
    "xx8 = dataset_validation_x8.values\n",
    "\n",
    "yy9  = dataset_validation_y9.values\n",
    "xx9 = dataset_validation_x9.values\"\"\""
   ]
  },
  {
   "cell_type": "code",
   "execution_count": 7,
   "metadata": {},
   "outputs": [
    {
     "name": "stderr",
     "output_type": "stream",
     "text": [
      "/Users/adolfohuerta/opt/anaconda3/lib/python3.9/site-packages/sklearn/utils/validation.py:63: DataConversionWarning: A column-vector y was passed when a 1d array was expected. Please change the shape of y to (n_samples, ), for example using ravel().\n",
      "  return f(*args, **kwargs)\n",
      "/Users/adolfohuerta/opt/anaconda3/lib/python3.9/site-packages/sklearn/linear_model/_stochastic_gradient.py:1225: ConvergenceWarning: Maximum number of iteration reached before convergence. Consider increasing max_iter to improve the fit.\n",
      "  warnings.warn(\"Maximum number of iteration reached before \"\n"
     ]
    },
    {
     "data": {
      "text/plain": [
       "\"polynomial_features= PolynomialFeatures(degree=3)\\nx_poly = polynomial_features.fit_transform(xx6)\\nx_poly_robust_scaler = preprocessing.RobustScaler().fit_transform(x_poly)\\nregr = SGDRegressor(learning_rate = 'invscaling', eta0 = 0.0000001 , max_iter= 1000)\\nregr.fit(x_poly_robust_scaler, yy6)\\ny_poly_pred = regr.predict(x_poly_robust_scaler)\\nmse = mean_squared_error(yy6, y_poly_pred)\\nr2 = r2_score(yy6, y_poly_pred)\\n\\nmse_list.append(mse)\\nr2_list.append(r2)\\n\\npolynomial_features= PolynomialFeatures(degree=3)\\nx_poly = polynomial_features.fit_transform(xx7)\\nx_poly_robust_scaler = preprocessing.RobustScaler().fit_transform(x_poly)\\nregr = SGDRegressor(learning_rate = 'invscaling', eta0 = 0.0000001 , max_iter= 1000)\\nregr.fit(x_poly_robust_scaler, yy7)\\ny_poly_pred = regr.predict(x_poly_robust_scaler)\\nmse = mean_squared_error(yy7, y_poly_pred)\\nr2 = r2_score(yy7, y_poly_pred)\\n\\nmse_list.append(mse)\\nr2_list.append(r2)\\n\\npolynomial_features= PolynomialFeatures(degree=3)\\nx_poly = polynomial_features.fit_transform(xx8)\\nx_poly_robust_scaler = preprocessing.RobustScaler().fit_transform(x_poly)\\nregr = SGDRegressor(learning_rate = 'invscaling', eta0 = 0.0000001 , max_iter= 1000)\\nregr.fit(x_poly_robust_scaler, yy8)\\ny_poly_pred = regr.predict(x_poly_robust_scaler)\\nmse = mean_squared_error(yy8, y_poly_pred)\\nr2 = r2_score(yy8, y_poly_pred)\\n\\nmse_list.append(mse)\\nr2_list.append(r2)\\n\\npolynomial_features= PolynomialFeatures(degree=3)\\nx_poly = polynomial_features.fit_transform(xx9)\\nx_poly_robust_scaler = preprocessing.RobustScaler().fit_transform(x_poly)\\nregr = SGDRegressor(learning_rate = 'invscaling', eta0 = 0.0000001 , max_iter= 1000)\\nregr.fit(x_poly_robust_scaler, yy9)\\ny_poly_pred = regr.predict(x_poly_robust_scaler)\\nmse = mean_squared_error(yy9, y_poly_pred)\\nr2 = r2_score(yy9, y_poly_pred)\\n\\nmse_list.append(mse)\\nr2_list.append(r2)\\n\""
      ]
     },
     "execution_count": 7,
     "metadata": {},
     "output_type": "execute_result"
    }
   ],
   "source": [
    "mse_list = []\n",
    "r2_list = []\n",
    "\n",
    "polynomial_features= PolynomialFeatures(degree=3)\n",
    "x_poly = polynomial_features.fit_transform(xx)\n",
    "x_poly_robust_scaler = preprocessing.RobustScaler().fit_transform(x_poly)\n",
    "regr = SGDRegressor(learning_rate = 'invscaling', eta0 = 0.0000001 , max_iter= 1000)\n",
    "regr.fit(x_poly_robust_scaler, yy)\n",
    "y_poly_pred = regr.predict(x_poly_robust_scaler)\n",
    "mse = mean_squared_error(yy, y_poly_pred)\n",
    "r2 = r2_score(yy, y_poly_pred)\n",
    "\n",
    "mse_list.append(mse)\n",
    "r2_list.append(r2)\n",
    "\n",
    "\n",
    "\"\"\"polynomial_features= PolynomialFeatures(degree=3)\n",
    "x_poly = polynomial_features.fit_transform(xx6)\n",
    "x_poly_robust_scaler = preprocessing.RobustScaler().fit_transform(x_poly)\n",
    "regr = SGDRegressor(learning_rate = 'invscaling', eta0 = 0.0000001 , max_iter= 1000)\n",
    "regr.fit(x_poly_robust_scaler, yy6)\n",
    "y_poly_pred = regr.predict(x_poly_robust_scaler)\n",
    "mse = mean_squared_error(yy6, y_poly_pred)\n",
    "r2 = r2_score(yy6, y_poly_pred)\n",
    "\n",
    "mse_list.append(mse)\n",
    "r2_list.append(r2)\n",
    "\n",
    "polynomial_features= PolynomialFeatures(degree=3)\n",
    "x_poly = polynomial_features.fit_transform(xx7)\n",
    "x_poly_robust_scaler = preprocessing.RobustScaler().fit_transform(x_poly)\n",
    "regr = SGDRegressor(learning_rate = 'invscaling', eta0 = 0.0000001 , max_iter= 1000)\n",
    "regr.fit(x_poly_robust_scaler, yy7)\n",
    "y_poly_pred = regr.predict(x_poly_robust_scaler)\n",
    "mse = mean_squared_error(yy7, y_poly_pred)\n",
    "r2 = r2_score(yy7, y_poly_pred)\n",
    "\n",
    "mse_list.append(mse)\n",
    "r2_list.append(r2)\n",
    "\n",
    "polynomial_features= PolynomialFeatures(degree=3)\n",
    "x_poly = polynomial_features.fit_transform(xx8)\n",
    "x_poly_robust_scaler = preprocessing.RobustScaler().fit_transform(x_poly)\n",
    "regr = SGDRegressor(learning_rate = 'invscaling', eta0 = 0.0000001 , max_iter= 1000)\n",
    "regr.fit(x_poly_robust_scaler, yy8)\n",
    "y_poly_pred = regr.predict(x_poly_robust_scaler)\n",
    "mse = mean_squared_error(yy8, y_poly_pred)\n",
    "r2 = r2_score(yy8, y_poly_pred)\n",
    "\n",
    "mse_list.append(mse)\n",
    "r2_list.append(r2)\n",
    "\n",
    "polynomial_features= PolynomialFeatures(degree=3)\n",
    "x_poly = polynomial_features.fit_transform(xx9)\n",
    "x_poly_robust_scaler = preprocessing.RobustScaler().fit_transform(x_poly)\n",
    "regr = SGDRegressor(learning_rate = 'invscaling', eta0 = 0.0000001 , max_iter= 1000)\n",
    "regr.fit(x_poly_robust_scaler, yy9)\n",
    "y_poly_pred = regr.predict(x_poly_robust_scaler)\n",
    "mse = mean_squared_error(yy9, y_poly_pred)\n",
    "r2 = r2_score(yy9, y_poly_pred)\n",
    "\n",
    "mse_list.append(mse)\n",
    "r2_list.append(r2)\n",
    "\"\"\"\n"
   ]
  },
  {
   "cell_type": "code",
   "execution_count": 8,
   "metadata": {},
   "outputs": [
    {
     "data": {
      "text/plain": [
       "[35095510164.307526]"
      ]
     },
     "execution_count": 8,
     "metadata": {},
     "output_type": "execute_result"
    }
   ],
   "source": [
    "mse_list"
   ]
  },
  {
   "cell_type": "code",
   "execution_count": 9,
   "metadata": {},
   "outputs": [
    {
     "data": {
      "text/plain": [
       "[-1.6332131278464161]"
      ]
     },
     "execution_count": 9,
     "metadata": {},
     "output_type": "execute_result"
    }
   ],
   "source": [
    "r2_list"
   ]
  }
 ],
 "metadata": {
  "kernelspec": {
   "display_name": "Python 3.9.7 ('base')",
   "language": "python",
   "name": "python3"
  },
  "language_info": {
   "codemirror_mode": {
    "name": "ipython",
    "version": 3
   },
   "file_extension": ".py",
   "mimetype": "text/x-python",
   "name": "python",
   "nbconvert_exporter": "python",
   "pygments_lexer": "ipython3",
   "version": "3.9.7"
  },
  "orig_nbformat": 4,
  "vscode": {
   "interpreter": {
    "hash": "12e7b2db913c7cced4d5bf71ce365c438f2053887e824f813caa9208ccef4b13"
   }
  }
 },
 "nbformat": 4,
 "nbformat_minor": 2
}
