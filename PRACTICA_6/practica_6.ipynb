{
 "cells": [
  {
   "cell_type": "markdown",
   "metadata": {},
   "source": [
    "### Practica 6. Naive Bayes\n",
    "\n"
   ]
  },
  {
   "cell_type": "markdown",
   "metadata": {},
   "source": [
    "Especificaciones\n",
    "\n",
    "En el dataset emails.csv\n",
    "\n",
    "- La primera columna indica el id del correo\n",
    "- La última columna indica si el correo es spam o no\n",
    "- El resto de las columnas son las palabras más comunes en todos los correos"
   ]
  },
  {
   "cell_type": "code",
   "execution_count": 36,
   "metadata": {},
   "outputs": [
    {
     "name": "stdout",
     "output_type": "stream",
     "text": [
      "       Email No.  the  to  ect  and  for  of    a  you  hou  ...  connevey  \\\n",
      "0        Email 1    0   0    1    0    0   0    2    0    0  ...         0   \n",
      "1        Email 2    8  13   24    6    6   2  102    1   27  ...         0   \n",
      "2        Email 3    0   0    1    0    0   0    8    0    0  ...         0   \n",
      "3        Email 4    0   5   22    0    5   1   51    2   10  ...         0   \n",
      "4        Email 5    7   6   17    1    5   2   57    0    9  ...         0   \n",
      "...          ...  ...  ..  ...  ...  ...  ..  ...  ...  ...  ...       ...   \n",
      "5167  Email 5168    2   2    2    3    0   0   32    0    0  ...         0   \n",
      "5168  Email 5169   35  27   11    2    6   5  151    4    3  ...         0   \n",
      "5169  Email 5170    0   0    1    1    0   0   11    0    0  ...         0   \n",
      "5170  Email 5171    2   7    1    0    2   1   28    2    0  ...         0   \n",
      "5171  Email 5172   22  24    5    1    6   5  148    8    2  ...         0   \n",
      "\n",
      "      jay  valued  lay  infrastructure  military  allowing  ff  dry  \\\n",
      "0       0       0    0               0         0         0   0    0   \n",
      "1       0       0    0               0         0         0   1    0   \n",
      "2       0       0    0               0         0         0   0    0   \n",
      "3       0       0    0               0         0         0   0    0   \n",
      "4       0       0    0               0         0         0   1    0   \n",
      "...   ...     ...  ...             ...       ...       ...  ..  ...   \n",
      "5167    0       0    0               0         0         0   0    0   \n",
      "5168    0       0    0               0         0         0   1    0   \n",
      "5169    0       0    0               0         0         0   0    0   \n",
      "5170    0       0    0               0         0         0   1    0   \n",
      "5171    0       0    0               0         0         0   0    0   \n",
      "\n",
      "      Prediction  \n",
      "0              0  \n",
      "1              0  \n",
      "2              0  \n",
      "3              0  \n",
      "4              0  \n",
      "...          ...  \n",
      "5167           0  \n",
      "5168           0  \n",
      "5169           1  \n",
      "5170           1  \n",
      "5171           0  \n",
      "\n",
      "[5172 rows x 3002 columns]\n"
     ]
    }
   ],
   "source": [
    "import pandas as pd\n",
    "\n",
    "df = pd.read_csv(r'emails.csv')\n",
    "print(df)"
   ]
  },
  {
   "cell_type": "code",
   "execution_count": 37,
   "metadata": {},
   "outputs": [
    {
     "name": "stdout",
     "output_type": "stream",
     "text": [
      "       Email No.\n",
      "0        Email 1\n",
      "1        Email 2\n",
      "2        Email 3\n",
      "3        Email 4\n",
      "4        Email 5\n",
      "...          ...\n",
      "5167  Email 5168\n",
      "5168  Email 5169\n",
      "5169  Email 5170\n",
      "5170  Email 5171\n",
      "5171  Email 5172\n",
      "\n",
      "[5172 rows x 1 columns]\n"
     ]
    }
   ],
   "source": [
    "# 1. Seleccionar la columna Email No y guardarla en una variable llamada email\n",
    "email = df['Email No.']\n",
    "# 1.1.- Guardar email en un pandas dataframe\n",
    "email = pd.DataFrame(email)\n",
    "print(email)"
   ]
  },
  {
   "cell_type": "code",
   "execution_count": 38,
   "metadata": {},
   "outputs": [
    {
     "name": "stdout",
     "output_type": "stream",
     "text": [
      "      the  to  ect  and  for  of    a  you  hou  in  ...  enhancements  \\\n",
      "0       0   0    1    0    0   0    2    0    0   0  ...             0   \n",
      "1       8  13   24    6    6   2  102    1   27  18  ...             0   \n",
      "2       0   0    1    0    0   0    8    0    0   4  ...             0   \n",
      "3       0   5   22    0    5   1   51    2   10   1  ...             0   \n",
      "4       7   6   17    1    5   2   57    0    9   3  ...             0   \n",
      "...   ...  ..  ...  ...  ...  ..  ...  ...  ...  ..  ...           ...   \n",
      "5167    2   2    2    3    0   0   32    0    0   5  ...             0   \n",
      "5168   35  27   11    2    6   5  151    4    3  23  ...             0   \n",
      "5169    0   0    1    1    0   0   11    0    0   1  ...             0   \n",
      "5170    2   7    1    0    2   1   28    2    0   8  ...             0   \n",
      "5171   22  24    5    1    6   5  148    8    2  23  ...             0   \n",
      "\n",
      "      connevey  jay  valued  lay  infrastructure  military  allowing  ff  dry  \n",
      "0            0    0       0    0               0         0         0   0    0  \n",
      "1            0    0       0    0               0         0         0   1    0  \n",
      "2            0    0       0    0               0         0         0   0    0  \n",
      "3            0    0       0    0               0         0         0   0    0  \n",
      "4            0    0       0    0               0         0         0   1    0  \n",
      "...        ...  ...     ...  ...             ...       ...       ...  ..  ...  \n",
      "5167         0    0       0    0               0         0         0   0    0  \n",
      "5168         0    0       0    0               0         0         0   1    0  \n",
      "5169         0    0       0    0               0         0         0   0    0  \n",
      "5170         0    0       0    0               0         0         0   1    0  \n",
      "5171         0    0       0    0               0         0         0   0    0  \n",
      "\n",
      "[5172 rows x 3000 columns]\n"
     ]
    }
   ],
   "source": [
    "#2 .- Seleccionar todas las columnas menos Email No. y Prediction y guardarlas en una variable llamada X\n",
    "X = df.drop(['Email No.','Prediction'], axis=1)\n",
    "# 2.1.- Guardar X en un pandas dataframe e imprimirlo\n",
    "X = pd.DataFrame(X)\n",
    "print(X)\n"
   ]
  },
  {
   "cell_type": "code",
   "execution_count": 39,
   "metadata": {},
   "outputs": [
    {
     "name": "stdout",
     "output_type": "stream",
     "text": [
      "      Prediction\n",
      "0              0\n",
      "1              0\n",
      "2              0\n",
      "3              0\n",
      "4              0\n",
      "...          ...\n",
      "5167           0\n",
      "5168           0\n",
      "5169           1\n",
      "5170           1\n",
      "5171           0\n",
      "\n",
      "[5172 rows x 1 columns]\n"
     ]
    }
   ],
   "source": [
    "#3.- Seleccionar la columna Prediction y guardarla en una variable llamada y\n",
    "y = df['Prediction']\n",
    "# 3.1.- Guardar y en un pandas dataframe e imprimirlo\n",
    "y = pd.DataFrame(y)\n",
    "print(y)\n"
   ]
  },
  {
   "cell_type": "markdown",
   "metadata": {},
   "source": [
    "En el dataset iris.csv\n",
    "\n",
    "- Las primeras 4 columnas son las características de las instancias\n",
    "- La última columna es la clase"
   ]
  },
  {
   "cell_type": "code",
   "execution_count": 40,
   "metadata": {},
   "outputs": [
    {
     "name": "stdout",
     "output_type": "stream",
     "text": [
      "     sepal_length  sepal_width  petal_length  petal_width         species\n",
      "0             5.1          3.5           1.4          0.2     Iris-setosa\n",
      "1             4.9          3.0           1.4          0.2     Iris-setosa\n",
      "2             4.7          3.2           1.3          0.2     Iris-setosa\n",
      "3             4.6          3.1           1.5          0.2     Iris-setosa\n",
      "4             5.0          3.6           1.4          0.2     Iris-setosa\n",
      "..            ...          ...           ...          ...             ...\n",
      "145           6.7          3.0           5.2          2.3  Iris-virginica\n",
      "146           6.3          2.5           5.0          1.9  Iris-virginica\n",
      "147           6.5          3.0           5.2          2.0  Iris-virginica\n",
      "148           6.2          3.4           5.4          2.3  Iris-virginica\n",
      "149           5.9          3.0           5.1          1.8  Iris-virginica\n",
      "\n",
      "[150 rows x 5 columns]\n"
     ]
    }
   ],
   "source": [
    "#4.- importar el archivo csv llamado iris.csv y guardar el resultado en una variable llamada iris\n",
    "iris = pd.read_csv(r'iris.csv')\n",
    "# 4.1.- Imprimir iris\n",
    "print(iris)"
   ]
  },
  {
   "cell_type": "code",
   "execution_count": 41,
   "metadata": {},
   "outputs": [
    {
     "name": "stdout",
     "output_type": "stream",
     "text": [
      "      the  to  ect  and  for  of    a  you  hou  in  ...  enhancements  \\\n",
      "0       0   0    1    0    0   0    2    0    0   0  ...             0   \n",
      "1       8  13   24    6    6   2  102    1   27  18  ...             0   \n",
      "2       0   0    1    0    0   0    8    0    0   4  ...             0   \n",
      "3       0   5   22    0    5   1   51    2   10   1  ...             0   \n",
      "4       7   6   17    1    5   2   57    0    9   3  ...             0   \n",
      "...   ...  ..  ...  ...  ...  ..  ...  ...  ...  ..  ...           ...   \n",
      "5167    2   2    2    3    0   0   32    0    0   5  ...             0   \n",
      "5168   35  27   11    2    6   5  151    4    3  23  ...             0   \n",
      "5169    0   0    1    1    0   0   11    0    0   1  ...             0   \n",
      "5170    2   7    1    0    2   1   28    2    0   8  ...             0   \n",
      "5171   22  24    5    1    6   5  148    8    2  23  ...             0   \n",
      "\n",
      "      connevey  jay  valued  lay  infrastructure  military  allowing  ff  dry  \n",
      "0            0    0       0    0               0         0         0   0    0  \n",
      "1            0    0       0    0               0         0         0   1    0  \n",
      "2            0    0       0    0               0         0         0   0    0  \n",
      "3            0    0       0    0               0         0         0   0    0  \n",
      "4            0    0       0    0               0         0         0   1    0  \n",
      "...        ...  ...     ...  ...             ...       ...       ...  ..  ...  \n",
      "5167         0    0       0    0               0         0         0   0    0  \n",
      "5168         0    0       0    0               0         0         0   1    0  \n",
      "5169         0    0       0    0               0         0         0   0    0  \n",
      "5170         0    0       0    0               0         0         0   1    0  \n",
      "5171         0    0       0    0               0         0         0   0    0  \n",
      "\n",
      "[5172 rows x 3000 columns]\n",
      "            species\n",
      "0       Iris-setosa\n",
      "1       Iris-setosa\n",
      "2       Iris-setosa\n",
      "3       Iris-setosa\n",
      "4       Iris-setosa\n",
      "..              ...\n",
      "145  Iris-virginica\n",
      "146  Iris-virginica\n",
      "147  Iris-virginica\n",
      "148  Iris-virginica\n",
      "149  Iris-virginica\n",
      "\n",
      "[150 rows x 1 columns]\n"
     ]
    }
   ],
   "source": [
    "#5.- Seleccionar las columnas Sepal.Length, Sepal.Width, Petal.Length, Petal.Width y guardarlas en una variable llamada X \n",
    "X1 = iris[['sepal_length','sepal_width','petal_length','petal_width']]\n",
    "# 5.1.- Guardar X en un pandas dataframe e imprimirlo\n",
    "X1 = pd.DataFrame(X1)\n",
    "print(X)\n",
    "#6.- Seleccionar la columna Species y guardarla en una variable llamada y\n",
    "y1 = iris['species']\n",
    "# 6.1.- Guardar y en un pandas dataframe e imprimirlo\n",
    "y1 = pd.DataFrame(y1)\n",
    "print(y1)"
   ]
  },
  {
   "cell_type": "markdown",
   "metadata": {},
   "source": [
    "Utilizando ambos dataset realiza lo siguiente:\n",
    "- Carga el dataset\n",
    "- Crea un conjunto de entrenamiento del 70% de las instancias y el conjunto de pruebas con el 30%(set\n",
    "random_state = 0)\n",
    "- Utilizando el conjunto de entrenamiento crea un conjunto de validación con 3 pliegues"
   ]
  },
  {
   "cell_type": "code",
   "execution_count": 42,
   "metadata": {},
   "outputs": [
    {
     "name": "stdout",
     "output_type": "stream",
     "text": [
      "(105, 4)\n",
      "(45, 4)\n",
      "(105, 1)\n",
      "(45, 1)\n"
     ]
    }
   ],
   "source": [
    "#7.- Dividir en conjunto de entrenamiento y prueba de la variable X y y con un 30% de datos para prueba\n",
    "from sklearn.model_selection import train_test_split\n",
    "X_train, X_test, y_train, y_test = train_test_split(X1, y1, test_size=0.3, random_state=1)\n",
    "# 7.1.- Imprimir las dimensiones de los conjuntos de entrenamiento y prueba\n",
    "print(X_train.shape)\n",
    "print(X_test.shape)\n",
    "print(y_train.shape)\n",
    "print(y_test.shape)\n"
   ]
  },
  {
   "cell_type": "markdown",
   "metadata": {},
   "source": [
    "#### Especificaciones\n",
    "\n",
    "Utilizando el conjunto de validación realiza lo siguiente con cada pliegue:\n",
    "\n",
    "Utiliza Naive Bayes con distribución normal para entrenar y prueba el modelo en cada\n",
    "pliegue\n",
    "- Determina la exactitud de cada pliegue\n",
    "- Determina el promedio de exactitud de los 3 pliegues"
   ]
  },
  {
   "cell_type": "markdown",
   "metadata": {},
   "source": [
    "Utiliza Multinomial con distribución normal para entrenar y prueba el modelo en cada\n",
    "pliegue\n",
    "\n",
    "- Determina la exactitud de cada pliegue\n",
    "- Determina el promedio de exactitud de los 3 pliegues"
   ]
  },
  {
   "cell_type": "code",
   "execution_count": 47,
   "metadata": {},
   "outputs": [
    {
     "name": "stderr",
     "output_type": "stream",
     "text": [
      "/Users/adolfohuerta/opt/anaconda3/lib/python3.9/site-packages/sklearn/utils/validation.py:63: DataConversionWarning: A column-vector y was passed when a 1d array was expected. Please change the shape of y to (n_samples, ), for example using ravel().\n",
      "  return f(*args, **kwargs)\n",
      "/Users/adolfohuerta/opt/anaconda3/lib/python3.9/site-packages/sklearn/utils/validation.py:63: DataConversionWarning: A column-vector y was passed when a 1d array was expected. Please change the shape of y to (n_samples, ), for example using ravel().\n",
      "  return f(*args, **kwargs)\n",
      "/Users/adolfohuerta/opt/anaconda3/lib/python3.9/site-packages/sklearn/utils/validation.py:63: DataConversionWarning: A column-vector y was passed when a 1d array was expected. Please change the shape of y to (n_samples, ), for example using ravel().\n",
      "  return f(*args, **kwargs)\n",
      "/Users/adolfohuerta/opt/anaconda3/lib/python3.9/site-packages/sklearn/utils/validation.py:63: DataConversionWarning: A column-vector y was passed when a 1d array was expected. Please change the shape of y to (n_samples, ), for example using ravel().\n",
      "  return f(*args, **kwargs)\n",
      "/Users/adolfohuerta/opt/anaconda3/lib/python3.9/site-packages/sklearn/utils/validation.py:63: DataConversionWarning: A column-vector y was passed when a 1d array was expected. Please change the shape of y to (n_samples, ), for example using ravel().\n",
      "  return f(*args, **kwargs)\n",
      "/Users/adolfohuerta/opt/anaconda3/lib/python3.9/site-packages/sklearn/utils/validation.py:63: DataConversionWarning: A column-vector y was passed when a 1d array was expected. Please change the shape of y to (n_samples, ), for example using ravel().\n",
      "  return f(*args, **kwargs)\n"
     ]
    }
   ],
   "source": [
    "#8.- Utilizando el conjunto de entrenamiento, crear un conjunto  de validación con 3 pliegues\n",
    "from sklearn.model_selection import StratifiedKFold\n",
    "from sklearn.naive_bayes import MultinomialNB\n",
    "from sklearn.naive_bayes import GaussianNB\n",
    "\n",
    "ypredictarray = []\n",
    "xtestprobaarray = []\n",
    "X_testYtestscorearray = []\n",
    "\n",
    "ypredictarrayM = []\n",
    "xtestprobaarrayM = []\n",
    "X_testYtestscorearrayM = []\n",
    "\n",
    "skf = StratifiedKFold(n_splits=3)\n",
    "for train_index, test_index in skf.split(X, y):\n",
    "     #print(\"TRAIN:\", train_index, \"TEST:\", test_index)\n",
    "     X_train, X_test = X.iloc[train_index], X.iloc[test_index]\n",
    "     y_train, y_test = y.iloc[train_index], y.iloc[test_index]\n",
    "     \n",
    "     #con naive bayes de distribucion normal determina la exactitud de la prediccion\n",
    "    \n",
    "     clf = GaussianNB()\n",
    "     clf.fit(X_train, y_train)\n",
    "     y_predict = clf.predict(X_test)\n",
    "     #print(y_predict)\n",
    "     ypredictarray.append(y_predict)\n",
    "     #print(clf.predict_proba(X_test))\n",
    "     xtestprobaarray.append(clf.predict_proba(X_test))\n",
    "     #print(clf.score(X_test, y_test))\n",
    "     X_testYtestscorearray.append(clf.score(X_test, y_test))\n",
    "\n",
    "\n",
    "     # Con multinomial naive bayes determina la exactitud de la prediccion \n",
    "    \n",
    "     clf = MultinomialNB()\n",
    "     clf.fit(X_train, y_train)\n",
    "     y_predict = clf.predict(X_test)\n",
    "     #print(y_predict)\n",
    "     #print(clf.predict_proba(X_test))\n",
    "     #print(clf.score(X_test, y_test))\n",
    "\n",
    "     ypredictarrayM.append(y_predict)\n",
    "     xtestprobaarrayM.append(clf.predict_proba(X_test))\n",
    "     X_testYtestscorearrayM.append(clf.score(X_test, y_test))\n",
    "\n",
    "     \n"
   ]
  },
  {
   "cell_type": "code",
   "execution_count": 48,
   "metadata": {},
   "outputs": [
    {
     "data": {
      "text/markdown": [
       "### Conjunto Emails - Naive Bayes "
      ],
      "text/plain": [
       "<IPython.core.display.Markdown object>"
      ]
     },
     "metadata": {},
     "output_type": "display_data"
    },
    {
     "name": "stdout",
     "output_type": "stream",
     "text": [
      "Calificacion de el pliegue numero:  1  es:  0.9390951276102089\n",
      "Calificacion de el pliegue numero:  2  es:  0.9547563805104409\n",
      "Calificacion de el pliegue numero:  3  es:  0.935614849187935\n",
      "El promedio de las calificaciones es:  0.9431554524361948\n"
     ]
    },
    {
     "data": {
      "text/markdown": [
       "### Conjunto Emails - Naive Bayes Multinomial"
      ],
      "text/plain": [
       "<IPython.core.display.Markdown object>"
      ]
     },
     "metadata": {},
     "output_type": "display_data"
    },
    {
     "name": "stdout",
     "output_type": "stream",
     "text": [
      "Calificacion de el pliegue numero:  4  es:  0.947215777262181\n",
      "Calificacion de el pliegue numero:  5  es:  0.9547563805104409\n",
      "Calificacion de el pliegue numero:  6  es:  0.9129930394431555\n",
      "El promedio de las calificaciones es:  0.9383217324052592\n"
     ]
    }
   ],
   "source": [
    "index = 1\n",
    "from IPython.display import display, Markdown, Latex\n",
    "display(Markdown('### Conjunto Emails - Naive Bayes '))\n",
    "for x in range(len(ypredictarray)):\n",
    "    #print(ypredictarray[x])\n",
    "    #print(xtestprobaarray[x])\n",
    "    print(\"Calificacion de el pliegue numero: \" , index , \" es: \" , X_testYtestscorearray[x])\n",
    "    index += 1\n",
    "# 8.1.- Imprimir el promedio de ypredicarray\n",
    "print(\"El promedio de las calificaciones es: \" , sum(X_testYtestscorearray)/len(X_testYtestscorearray))\n",
    "\n",
    "display(Markdown('### Conjunto Emails - Naive Bayes Multinomial'))\n",
    "for x in range(len(ypredictarrayM)):\n",
    "    #print(ypredictarray[x])\n",
    "    #print(xtestprobaarray[x])\n",
    "    print(\"Calificacion de el pliegue numero: \" , index , \" es: \" , X_testYtestscorearrayM[x])\n",
    "    index += 1\n",
    "# 8.1.- Imprimir el promedio de ypredicarray\n",
    "print(\"El promedio de las calificaciones es: \" , sum(X_testYtestscorearrayM)/len(X_testYtestscorearrayM))"
   ]
  },
  {
   "cell_type": "code",
   "execution_count": 49,
   "metadata": {},
   "outputs": [
    {
     "name": "stderr",
     "output_type": "stream",
     "text": [
      "/Users/adolfohuerta/opt/anaconda3/lib/python3.9/site-packages/sklearn/utils/validation.py:63: DataConversionWarning: A column-vector y was passed when a 1d array was expected. Please change the shape of y to (n_samples, ), for example using ravel().\n",
      "  return f(*args, **kwargs)\n",
      "/Users/adolfohuerta/opt/anaconda3/lib/python3.9/site-packages/sklearn/utils/validation.py:63: DataConversionWarning: A column-vector y was passed when a 1d array was expected. Please change the shape of y to (n_samples, ), for example using ravel().\n",
      "  return f(*args, **kwargs)\n",
      "/Users/adolfohuerta/opt/anaconda3/lib/python3.9/site-packages/sklearn/utils/validation.py:63: DataConversionWarning: A column-vector y was passed when a 1d array was expected. Please change the shape of y to (n_samples, ), for example using ravel().\n",
      "  return f(*args, **kwargs)\n",
      "/Users/adolfohuerta/opt/anaconda3/lib/python3.9/site-packages/sklearn/utils/validation.py:63: DataConversionWarning: A column-vector y was passed when a 1d array was expected. Please change the shape of y to (n_samples, ), for example using ravel().\n",
      "  return f(*args, **kwargs)\n",
      "/Users/adolfohuerta/opt/anaconda3/lib/python3.9/site-packages/sklearn/utils/validation.py:63: DataConversionWarning: A column-vector y was passed when a 1d array was expected. Please change the shape of y to (n_samples, ), for example using ravel().\n",
      "  return f(*args, **kwargs)\n",
      "/Users/adolfohuerta/opt/anaconda3/lib/python3.9/site-packages/sklearn/utils/validation.py:63: DataConversionWarning: A column-vector y was passed when a 1d array was expected. Please change the shape of y to (n_samples, ), for example using ravel().\n",
      "  return f(*args, **kwargs)\n"
     ]
    }
   ],
   "source": [
    "#8.- Utilizando el conjunto de entrenamiento, crear un conjunto  de validación con 3 pliegues\n",
    "from sklearn.model_selection import StratifiedKFold\n",
    "from sklearn.naive_bayes import GaussianNB\n",
    "\n",
    "ypredictarray1 = []\n",
    "xtestprobaarray1 = []\n",
    "X_testYtestscorearray1 = []\n",
    "\n",
    "ypredictarray1M = []\n",
    "xtestprobaarray1M = []\n",
    "X_testYtestscorearray1M = []\n",
    "\n",
    "skf = StratifiedKFold(n_splits=3)\n",
    "for train_index, test_index in skf.split(X1, y1):\n",
    "     #print(\"TRAIN:\", train_index, \"TEST:\", test_index)\n",
    "     X_train, X_test = X1.iloc[train_index], X1.iloc[test_index]\n",
    "     y_train, y_test = y1.iloc[train_index], y1.iloc[test_index]\n",
    "     \n",
    "     #con naive bayes de distribucion normal determina la exactitud de la prediccion\n",
    "     \n",
    "     clf = GaussianNB()\n",
    "     clf.fit(X_train, y_train)\n",
    "     y_predict = clf.predict(X_test)\n",
    "     #print(y_predict)\n",
    "     ypredictarray1.append(y_predict)\n",
    "     #print(clf.predict_proba(X_test))\n",
    "     xtestprobaarray1.append(clf.predict_proba(X_test))\n",
    "     #print(clf.score(X_test, y_test))\n",
    "     X_testYtestscorearray1.append(clf.score(X_test, y_test))\n",
    "\n",
    "     # Con multinomial naive bayes determina la exactitud de la prediccion \n",
    "    \n",
    "     clf = MultinomialNB()\n",
    "     clf.fit(X_train, y_train)\n",
    "     y_predict = clf.predict(X_test)\n",
    "     #print(y_predict)\n",
    "     #print(clf.predict_proba(X_test))\n",
    "     #print(clf.score(X_test, y_test))\n",
    "\n",
    "     ypredictarray1M.append(y_predict)\n",
    "     xtestprobaarray1M.append(clf.predict_proba(X_test))\n",
    "     X_testYtestscorearray1M.append(clf.score(X_test, y_test))\n",
    "     \n"
   ]
  },
  {
   "cell_type": "code",
   "execution_count": 50,
   "metadata": {},
   "outputs": [
    {
     "data": {
      "text/markdown": [
       "### Conjunto Iris -> Naive Bayes"
      ],
      "text/plain": [
       "<IPython.core.display.Markdown object>"
      ]
     },
     "metadata": {},
     "output_type": "display_data"
    },
    {
     "name": "stdout",
     "output_type": "stream",
     "text": [
      "Calificacion de el pliegue numero:  1  es:  0.92\n",
      "Calificacion de el pliegue numero:  2  es:  0.94\n",
      "Calificacion de el pliegue numero:  3  es:  0.96\n",
      "El promedio de las calificaciones es:  0.94\n"
     ]
    },
    {
     "data": {
      "text/markdown": [
       "### Conjunto Iris -> Naive Bayes Multinomial"
      ],
      "text/plain": [
       "<IPython.core.display.Markdown object>"
      ]
     },
     "metadata": {},
     "output_type": "display_data"
    },
    {
     "name": "stdout",
     "output_type": "stream",
     "text": [
      "Calificacion de el pliegue numero:  4  es:  0.96\n",
      "Calificacion de el pliegue numero:  5  es:  0.92\n",
      "Calificacion de el pliegue numero:  6  es:  0.96\n",
      "El promedio de las calificaciones es:  0.9466666666666667\n"
     ]
    }
   ],
   "source": [
    "index = 1\n",
    "from IPython.display import display, Markdown, Latex\n",
    "display(Markdown('### Conjunto Iris -> Naive Bayes'))\n",
    "for x in range(len(ypredictarray1)):\n",
    "    #print(ypredictarray[x])\n",
    "    #print(xtestprobaarray[x])\n",
    "    print(\"Calificacion de el pliegue numero: \" , index , \" es: \" , X_testYtestscorearray1[x])\n",
    "    index += 1\n",
    "# 8.1.- Imprimir el promedio de ypredicarray\n",
    "print(\"El promedio de las calificaciones es: \" , sum(X_testYtestscorearray1)/len(X_testYtestscorearray1))\n",
    "\n",
    "\n",
    "display(Markdown('### Conjunto Iris -> Naive Bayes Multinomial'))\n",
    "for x in range(len(ypredictarray1M)):\n",
    "    #print(ypredictarray[x])\n",
    "    #print(xtestprobaarray[x])\n",
    "    print(\"Calificacion de el pliegue numero: \" , index , \" es: \" , X_testYtestscorearray1M[x])\n",
    "    index += 1\n",
    "# 8.1.- Imprimir el promedio de ypredicarray\n",
    "print(\"El promedio de las calificaciones es: \" , sum(X_testYtestscorearray1M)/len(X_testYtestscorearray1M))"
   ]
  }
 ],
 "metadata": {
  "kernelspec": {
   "display_name": "Python 3.9.7 ('base')",
   "language": "python",
   "name": "python3"
  },
  "language_info": {
   "codemirror_mode": {
    "name": "ipython",
    "version": 3
   },
   "file_extension": ".py",
   "mimetype": "text/x-python",
   "name": "python",
   "nbconvert_exporter": "python",
   "pygments_lexer": "ipython3",
   "version": "3.9.7"
  },
  "orig_nbformat": 4,
  "vscode": {
   "interpreter": {
    "hash": "12e7b2db913c7cced4d5bf71ce365c438f2053887e824f813caa9208ccef4b13"
   }
  }
 },
 "nbformat": 4,
 "nbformat_minor": 2
}
