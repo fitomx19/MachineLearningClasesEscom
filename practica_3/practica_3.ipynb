{
 "cells": [
  {
   "cell_type": "markdown",
   "metadata": {},
   "source": [
    "### Practica 3 \n",
    "- Michael Adolfo Huerta Ramírez"
   ]
  },
  {
   "cell_type": "code",
   "execution_count": 66,
   "metadata": {},
   "outputs": [
    {
     "data": {
      "text/html": [
       "<div>\n",
       "<style scoped>\n",
       "    .dataframe tbody tr th:only-of-type {\n",
       "        vertical-align: middle;\n",
       "    }\n",
       "\n",
       "    .dataframe tbody tr th {\n",
       "        vertical-align: top;\n",
       "    }\n",
       "\n",
       "    .dataframe thead th {\n",
       "        text-align: right;\n",
       "    }\n",
       "</style>\n",
       "<table border=\"1\" class=\"dataframe\">\n",
       "  <thead>\n",
       "    <tr style=\"text-align: right;\">\n",
       "      <th></th>\n",
       "      <th>x</th>\n",
       "      <th>y</th>\n",
       "    </tr>\n",
       "  </thead>\n",
       "  <tbody>\n",
       "    <tr>\n",
       "      <th>0</th>\n",
       "      <td>3</td>\n",
       "      <td>5</td>\n",
       "    </tr>\n",
       "    <tr>\n",
       "      <th>1</th>\n",
       "      <td>7</td>\n",
       "      <td>11</td>\n",
       "    </tr>\n",
       "    <tr>\n",
       "      <th>2</th>\n",
       "      <td>11</td>\n",
       "      <td>21</td>\n",
       "    </tr>\n",
       "    <tr>\n",
       "      <th>3</th>\n",
       "      <td>15</td>\n",
       "      <td>16</td>\n",
       "    </tr>\n",
       "    <tr>\n",
       "      <th>4</th>\n",
       "      <td>18</td>\n",
       "      <td>16</td>\n",
       "    </tr>\n",
       "    <tr>\n",
       "      <th>5</th>\n",
       "      <td>27</td>\n",
       "      <td>28</td>\n",
       "    </tr>\n",
       "    <tr>\n",
       "      <th>6</th>\n",
       "      <td>29</td>\n",
       "      <td>27</td>\n",
       "    </tr>\n",
       "    <tr>\n",
       "      <th>7</th>\n",
       "      <td>30</td>\n",
       "      <td>25</td>\n",
       "    </tr>\n",
       "    <tr>\n",
       "      <th>8</th>\n",
       "      <td>30</td>\n",
       "      <td>35</td>\n",
       "    </tr>\n",
       "    <tr>\n",
       "      <th>9</th>\n",
       "      <td>31</td>\n",
       "      <td>30</td>\n",
       "    </tr>\n",
       "    <tr>\n",
       "      <th>10</th>\n",
       "      <td>31</td>\n",
       "      <td>40</td>\n",
       "    </tr>\n",
       "    <tr>\n",
       "      <th>11</th>\n",
       "      <td>32</td>\n",
       "      <td>32</td>\n",
       "    </tr>\n",
       "    <tr>\n",
       "      <th>12</th>\n",
       "      <td>33</td>\n",
       "      <td>34</td>\n",
       "    </tr>\n",
       "    <tr>\n",
       "      <th>13</th>\n",
       "      <td>33</td>\n",
       "      <td>32</td>\n",
       "    </tr>\n",
       "    <tr>\n",
       "      <th>14</th>\n",
       "      <td>34</td>\n",
       "      <td>34</td>\n",
       "    </tr>\n",
       "    <tr>\n",
       "      <th>15</th>\n",
       "      <td>36</td>\n",
       "      <td>37</td>\n",
       "    </tr>\n",
       "    <tr>\n",
       "      <th>16</th>\n",
       "      <td>36</td>\n",
       "      <td>38</td>\n",
       "    </tr>\n",
       "    <tr>\n",
       "      <th>17</th>\n",
       "      <td>36</td>\n",
       "      <td>34</td>\n",
       "    </tr>\n",
       "    <tr>\n",
       "      <th>18</th>\n",
       "      <td>37</td>\n",
       "      <td>36</td>\n",
       "    </tr>\n",
       "    <tr>\n",
       "      <th>19</th>\n",
       "      <td>38</td>\n",
       "      <td>38</td>\n",
       "    </tr>\n",
       "    <tr>\n",
       "      <th>20</th>\n",
       "      <td>39</td>\n",
       "      <td>37</td>\n",
       "    </tr>\n",
       "    <tr>\n",
       "      <th>21</th>\n",
       "      <td>39</td>\n",
       "      <td>36</td>\n",
       "    </tr>\n",
       "    <tr>\n",
       "      <th>22</th>\n",
       "      <td>39</td>\n",
       "      <td>45</td>\n",
       "    </tr>\n",
       "    <tr>\n",
       "      <th>23</th>\n",
       "      <td>40</td>\n",
       "      <td>39</td>\n",
       "    </tr>\n",
       "    <tr>\n",
       "      <th>24</th>\n",
       "      <td>41</td>\n",
       "      <td>41</td>\n",
       "    </tr>\n",
       "    <tr>\n",
       "      <th>25</th>\n",
       "      <td>42</td>\n",
       "      <td>40</td>\n",
       "    </tr>\n",
       "    <tr>\n",
       "      <th>26</th>\n",
       "      <td>42</td>\n",
       "      <td>44</td>\n",
       "    </tr>\n",
       "    <tr>\n",
       "      <th>27</th>\n",
       "      <td>43</td>\n",
       "      <td>37</td>\n",
       "    </tr>\n",
       "    <tr>\n",
       "      <th>28</th>\n",
       "      <td>44</td>\n",
       "      <td>44</td>\n",
       "    </tr>\n",
       "    <tr>\n",
       "      <th>29</th>\n",
       "      <td>45</td>\n",
       "      <td>46</td>\n",
       "    </tr>\n",
       "    <tr>\n",
       "      <th>30</th>\n",
       "      <td>46</td>\n",
       "      <td>46</td>\n",
       "    </tr>\n",
       "    <tr>\n",
       "      <th>31</th>\n",
       "      <td>47</td>\n",
       "      <td>49</td>\n",
       "    </tr>\n",
       "    <tr>\n",
       "      <th>32</th>\n",
       "      <td>50</td>\n",
       "      <td>51</td>\n",
       "    </tr>\n",
       "  </tbody>\n",
       "</table>\n",
       "</div>"
      ],
      "text/plain": [
       "     x   y\n",
       "0    3   5\n",
       "1    7  11\n",
       "2   11  21\n",
       "3   15  16\n",
       "4   18  16\n",
       "5   27  28\n",
       "6   29  27\n",
       "7   30  25\n",
       "8   30  35\n",
       "9   31  30\n",
       "10  31  40\n",
       "11  32  32\n",
       "12  33  34\n",
       "13  33  32\n",
       "14  34  34\n",
       "15  36  37\n",
       "16  36  38\n",
       "17  36  34\n",
       "18  37  36\n",
       "19  38  38\n",
       "20  39  37\n",
       "21  39  36\n",
       "22  39  45\n",
       "23  40  39\n",
       "24  41  41\n",
       "25  42  40\n",
       "26  42  44\n",
       "27  43  37\n",
       "28  44  44\n",
       "29  45  46\n",
       "30  46  46\n",
       "31  47  49\n",
       "32  50  51"
      ]
     },
     "execution_count": 66,
     "metadata": {},
     "output_type": "execute_result"
    }
   ],
   "source": [
    "import numpy as np\n",
    "import matplotlib.pyplot as plt \n",
    "import pandas as pd\n",
    "\n",
    "\n",
    "#importar el dataset\n",
    "dataset = pd.read_csv(\"peleteria.csv\")\n",
    "dataset\n",
    "\n"
   ]
  },
  {
   "cell_type": "code",
   "execution_count": 67,
   "metadata": {},
   "outputs": [],
   "source": [
    "x = dataset.iloc[:, -1:].values #todas menos la ultima columna\n",
    "y  = dataset.iloc[:, :-1].values\n"
   ]
  },
  {
   "cell_type": "code",
   "execution_count": 68,
   "metadata": {},
   "outputs": [],
   "source": [
    "from sklearn.model_selection import train_test_split\n",
    "x_train , x_Test ,y_train , y_test = train_test_split(x,y,test_size= 0.1, random_state= 0,shuffle = True)\n"
   ]
  },
  {
   "cell_type": "code",
   "execution_count": 69,
   "metadata": {},
   "outputs": [
    {
     "data": {
      "text/plain": [
       "LinearRegression()"
      ]
     },
     "execution_count": 69,
     "metadata": {},
     "output_type": "execute_result"
    }
   ],
   "source": [
    "from sklearn.linear_model import LinearRegression\n",
    "Regresion = LinearRegression()\n",
    "Regresion.fit(x_train,y_train)"
   ]
  },
  {
   "cell_type": "code",
   "execution_count": 70,
   "metadata": {},
   "outputs": [],
   "source": [
    "y_pred = Regresion.predict(x_Test)"
   ]
  },
  {
   "cell_type": "code",
   "execution_count": 71,
   "metadata": {},
   "outputs": [
    {
     "data": {
      "image/png": "[encoded data removed]",
      "text/plain": [
       "<Figure size 432x288 with 1 Axes>"
      ]
     },
     "metadata": {
      "needs_background": "light"
     },
     "output_type": "display_data"
    },
    {
     "data": {
      "image/png": "[encoded data removed]",
      "text/plain": [
       "<Figure size 432x288 with 1 Axes>"
      ]
     },
     "metadata": {
      "needs_background": "light"
     },
     "output_type": "display_data"
    }
   ],
   "source": [
    "plt.scatter(x_train,y_train,color=\"red\")\n",
    "plt.plot(x_train,Regresion.predict(x_train) ,color=\"blue\")\n",
    "plt.title(\"Peleteria (conjunto entrenamiento)\")\n",
    "plt.xlabel(\"eje x\")\n",
    "plt.ylabel(\"eje y\")\n",
    "plt.show()\n",
    "\n",
    "\n",
    "#Visualizar los datos del test\n",
    "plt.scatter(x_Test,y_test,color=\"green\")\n",
    "plt.plot(x_train,Regresion.predict(x_train) ,color=\"blue\")\n",
    "plt.title(\"Peleteria (conjunto testing)\")\n",
    "plt.xlabel(\"eje x\")\n",
    "plt.ylabel(\"eje y\")\n",
    "plt.show()"
   ]
  },
  {
   "cell_type": "code",
   "execution_count": 72,
   "metadata": {},
   "outputs": [],
   "source": [
    "x = dataset.iloc[:, -1:].values #todas menos la ultima columna\n",
    "y  = dataset.iloc[:, :-1].values"
   ]
  },
  {
   "cell_type": "code",
   "execution_count": 73,
   "metadata": {},
   "outputs": [],
   "source": [
    "XY = []\n",
    "X2 = []\n",
    "for i in range(len(x_train)):\n",
    "   XY.append((x_train[i]*y_train[i]))\n",
    "   X2.append(x_train[i]**2)\n"
   ]
  },
  {
   "cell_type": "code",
   "execution_count": 74,
   "metadata": {},
   "outputs": [],
   "source": [
    "XY_test = []\n",
    "X2_test = []\n",
    "for i in range(len(x_Test)):\n",
    "   XY_test.append((x_Test[i]*y_test[i]))\n",
    "   X2_test.append(x_Test[i]**2)\n"
   ]
  },
  {
   "cell_type": "code",
   "execution_count": 101,
   "metadata": {},
   "outputs": [
    {
     "name": "stdout",
     "output_type": "stream",
     "text": [
      "SUMATORIA X - train [980]\n",
      "SUMATORIA Y - train [956]\n",
      "SUMATORIA XY - train  [35983]\n",
      "SUMATORIA X2 - train [36768]\n"
     ]
    }
   ],
   "source": [
    "sumatoriaX =  0\n",
    "sumatoriaY = 0\n",
    "SumatoriaXiYi = 0\n",
    "SumatoriaXi2 = 0\n",
    "\n",
    "for i in range(len(x_train)): \n",
    "    sumatoriaX = x_train[i] + sumatoriaX\n",
    "print(\"SUMATORIA X - train\" , sumatoriaX)\n",
    "\n",
    "for i in range(len(x_train)):\n",
    "    sumatoriaY = y_train[i] + sumatoriaY\n",
    "print(\"SUMATORIA Y - train\", sumatoriaY)\n",
    "\n",
    "for i in range(len(x_train)):\n",
    "    SumatoriaXiYi = XY[i] + SumatoriaXiYi\n",
    "print(\"SUMATORIA XY - train \", SumatoriaXiYi)\n",
    "\n",
    "for i in range(len(x_train)):\n",
    "    SumatoriaXi2 = X2[i] + SumatoriaXi2\n",
    "print(\"SUMATORIA X2 - train\",SumatoriaXi2)"
   ]
  },
  {
   "cell_type": "code",
   "execution_count": 82,
   "metadata": {},
   "outputs": [
    {
     "name": "stdout",
     "output_type": "stream",
     "text": [
      "SUMATORIA X - test [144]\n",
      "SUMATORIA Y - test [148]\n",
      "SUMATORIA XY - test  [5372]\n",
      "SUMATORIA X2 - test [5230]\n"
     ]
    }
   ],
   "source": [
    "sumatoriaX =  0\n",
    "sumatoriaY = 0\n",
    "SumatoriaXiYi = 0\n",
    "SumatoriaXi2 = 0\n",
    "\n",
    "for i in range(len(x_Test)): \n",
    "    sumatoriaX = x_Test[i] + sumatoriaX\n",
    "print(\"SUMATORIA X - test\" , sumatoriaX)\n",
    "\n",
    "for i in range(len(x_Test)):\n",
    "    sumatoriaY = y_test[i] + sumatoriaY\n",
    "print(\"SUMATORIA Y - test\", sumatoriaY)\n",
    "\n",
    "for i in range(len(x_Test)):\n",
    "    SumatoriaXiYi = XY_test[i] + SumatoriaXiYi\n",
    "print(\"SUMATORIA XY - test \", SumatoriaXiYi)\n",
    "\n",
    "for i in range(len(x_Test)):\n",
    "    SumatoriaXi2 = X2_test[i] + SumatoriaXi2\n",
    "print(\"SUMATORIA X2 - test\",SumatoriaXi2)"
   ]
  },
  {
   "cell_type": "code",
   "execution_count": 102,
   "metadata": {},
   "outputs": [
    {
     "data": {
      "text/plain": [
       "array([1.00713125])"
      ]
     },
     "execution_count": 102,
     "metadata": {},
     "output_type": "execute_result"
    }
   ],
   "source": [
    "b1 = ((len(x_train) * SumatoriaXiYi) - (sumatoriaX * sumatoriaY)) / ((len(x_train) * SumatoriaXi2) - (sumatoriaX**2))\n",
    "b1"
   ]
  },
  {
   "cell_type": "markdown",
   "metadata": {},
   "source": [
    "<center><img src=\"1.png\" style='width:500px'></center>"
   ]
  },
  {
   "cell_type": "code",
   "execution_count": 100,
   "metadata": {},
   "outputs": [
    {
     "data": {
      "text/plain": [
       "array([-1.06857337])"
      ]
     },
     "execution_count": 100,
     "metadata": {},
     "output_type": "execute_result"
    }
   ],
   "source": [
    "b0 = (sumatoriaY - (b1 * sumatoriaX)) / len(x_train)\n",
    "b0"
   ]
  },
  {
   "cell_type": "markdown",
   "metadata": {},
   "source": [
    "$y = 0.0036 + 1.02x $"
   ]
  }
 ],
 "metadata": {
  "kernelspec": {
   "display_name": "Python 3.9.7 ('base')",
   "language": "python",
   "name": "python3"
  },
  "language_info": {
   "codemirror_mode": {
    "name": "ipython",
    "version": 3
   },
   "file_extension": ".py",
   "mimetype": "text/x-python",
   "name": "python",
   "nbconvert_exporter": "python",
   "pygments_lexer": "ipython3",
   "version": "3.9.7"
  },
  "orig_nbformat": 4,
  "vscode": {
   "interpreter": {
    "hash": "12e7b2db913c7cced4d5bf71ce365c438f2053887e824f813caa9208ccef4b13"
   }
  }
 },
 "nbformat": 4,
 "nbformat_minor": 2
}
